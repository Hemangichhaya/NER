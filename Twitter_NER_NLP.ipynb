{
  "nbformat": 4,
  "nbformat_minor": 0,
  "metadata": {
    "colab": {
      "provenance": [],
      "gpuType": "T4"
    },
    "kernelspec": {
      "name": "python3",
      "display_name": "Python 3"
    },
    "language_info": {
      "name": "python"
    },
    "accelerator": "GPU",
    "widgets": {
      "application/vnd.jupyter.widget-state+json": {
        "569eae4f5df94fbf911ce417f5a1fe36": {
          "model_module": "@jupyter-widgets/controls",
          "model_name": "HBoxModel",
          "model_module_version": "1.5.0",
          "state": {
            "_dom_classes": [],
            "_model_module": "@jupyter-widgets/controls",
            "_model_module_version": "1.5.0",
            "_model_name": "HBoxModel",
            "_view_count": null,
            "_view_module": "@jupyter-widgets/controls",
            "_view_module_version": "1.5.0",
            "_view_name": "HBoxView",
            "box_style": "",
            "children": [
              "IPY_MODEL_84d5065af92946159133ff3f36ce717b",
              "IPY_MODEL_7b4f71ab5efe4acea3bbdb452e1366a0",
              "IPY_MODEL_c002d625e7904554a9d504785f48d9c7"
            ],
            "layout": "IPY_MODEL_aa5e5c32ffbd46f1869f287ab16d6c0e"
          }
        },
        "84d5065af92946159133ff3f36ce717b": {
          "model_module": "@jupyter-widgets/controls",
          "model_name": "HTMLModel",
          "model_module_version": "1.5.0",
          "state": {
            "_dom_classes": [],
            "_model_module": "@jupyter-widgets/controls",
            "_model_module_version": "1.5.0",
            "_model_name": "HTMLModel",
            "_view_count": null,
            "_view_module": "@jupyter-widgets/controls",
            "_view_module_version": "1.5.0",
            "_view_name": "HTMLView",
            "description": "",
            "description_tooltip": null,
            "layout": "IPY_MODEL_6af77f6d897a496485f2d8e7381acee8",
            "placeholder": "​",
            "style": "IPY_MODEL_ce6bbd1aaf184510811bef54de317a77",
            "value": "tokenizer_config.json: 100%"
          }
        },
        "7b4f71ab5efe4acea3bbdb452e1366a0": {
          "model_module": "@jupyter-widgets/controls",
          "model_name": "FloatProgressModel",
          "model_module_version": "1.5.0",
          "state": {
            "_dom_classes": [],
            "_model_module": "@jupyter-widgets/controls",
            "_model_module_version": "1.5.0",
            "_model_name": "FloatProgressModel",
            "_view_count": null,
            "_view_module": "@jupyter-widgets/controls",
            "_view_module_version": "1.5.0",
            "_view_name": "ProgressView",
            "bar_style": "success",
            "description": "",
            "description_tooltip": null,
            "layout": "IPY_MODEL_df9b39e07a9141bb93642b095fbba162",
            "max": 48,
            "min": 0,
            "orientation": "horizontal",
            "style": "IPY_MODEL_907af0e610d4445ea6d460426c4437ca",
            "value": 48
          }
        },
        "c002d625e7904554a9d504785f48d9c7": {
          "model_module": "@jupyter-widgets/controls",
          "model_name": "HTMLModel",
          "model_module_version": "1.5.0",
          "state": {
            "_dom_classes": [],
            "_model_module": "@jupyter-widgets/controls",
            "_model_module_version": "1.5.0",
            "_model_name": "HTMLModel",
            "_view_count": null,
            "_view_module": "@jupyter-widgets/controls",
            "_view_module_version": "1.5.0",
            "_view_name": "HTMLView",
            "description": "",
            "description_tooltip": null,
            "layout": "IPY_MODEL_cd64e55e0bbb41918c1160f8cf337480",
            "placeholder": "​",
            "style": "IPY_MODEL_a32efc8c667b4463b88442aca26a075b",
            "value": " 48.0/48.0 [00:00&lt;00:00, 2.97kB/s]"
          }
        },
        "aa5e5c32ffbd46f1869f287ab16d6c0e": {
          "model_module": "@jupyter-widgets/base",
          "model_name": "LayoutModel",
          "model_module_version": "1.2.0",
          "state": {
            "_model_module": "@jupyter-widgets/base",
            "_model_module_version": "1.2.0",
            "_model_name": "LayoutModel",
            "_view_count": null,
            "_view_module": "@jupyter-widgets/base",
            "_view_module_version": "1.2.0",
            "_view_name": "LayoutView",
            "align_content": null,
            "align_items": null,
            "align_self": null,
            "border": null,
            "bottom": null,
            "display": null,
            "flex": null,
            "flex_flow": null,
            "grid_area": null,
            "grid_auto_columns": null,
            "grid_auto_flow": null,
            "grid_auto_rows": null,
            "grid_column": null,
            "grid_gap": null,
            "grid_row": null,
            "grid_template_areas": null,
            "grid_template_columns": null,
            "grid_template_rows": null,
            "height": null,
            "justify_content": null,
            "justify_items": null,
            "left": null,
            "margin": null,
            "max_height": null,
            "max_width": null,
            "min_height": null,
            "min_width": null,
            "object_fit": null,
            "object_position": null,
            "order": null,
            "overflow": null,
            "overflow_x": null,
            "overflow_y": null,
            "padding": null,
            "right": null,
            "top": null,
            "visibility": null,
            "width": null
          }
        },
        "6af77f6d897a496485f2d8e7381acee8": {
          "model_module": "@jupyter-widgets/base",
          "model_name": "LayoutModel",
          "model_module_version": "1.2.0",
          "state": {
            "_model_module": "@jupyter-widgets/base",
            "_model_module_version": "1.2.0",
            "_model_name": "LayoutModel",
            "_view_count": null,
            "_view_module": "@jupyter-widgets/base",
            "_view_module_version": "1.2.0",
            "_view_name": "LayoutView",
            "align_content": null,
            "align_items": null,
            "align_self": null,
            "border": null,
            "bottom": null,
            "display": null,
            "flex": null,
            "flex_flow": null,
            "grid_area": null,
            "grid_auto_columns": null,
            "grid_auto_flow": null,
            "grid_auto_rows": null,
            "grid_column": null,
            "grid_gap": null,
            "grid_row": null,
            "grid_template_areas": null,
            "grid_template_columns": null,
            "grid_template_rows": null,
            "height": null,
            "justify_content": null,
            "justify_items": null,
            "left": null,
            "margin": null,
            "max_height": null,
            "max_width": null,
            "min_height": null,
            "min_width": null,
            "object_fit": null,
            "object_position": null,
            "order": null,
            "overflow": null,
            "overflow_x": null,
            "overflow_y": null,
            "padding": null,
            "right": null,
            "top": null,
            "visibility": null,
            "width": null
          }
        },
        "ce6bbd1aaf184510811bef54de317a77": {
          "model_module": "@jupyter-widgets/controls",
          "model_name": "DescriptionStyleModel",
          "model_module_version": "1.5.0",
          "state": {
            "_model_module": "@jupyter-widgets/controls",
            "_model_module_version": "1.5.0",
            "_model_name": "DescriptionStyleModel",
            "_view_count": null,
            "_view_module": "@jupyter-widgets/base",
            "_view_module_version": "1.2.0",
            "_view_name": "StyleView",
            "description_width": ""
          }
        },
        "df9b39e07a9141bb93642b095fbba162": {
          "model_module": "@jupyter-widgets/base",
          "model_name": "LayoutModel",
          "model_module_version": "1.2.0",
          "state": {
            "_model_module": "@jupyter-widgets/base",
            "_model_module_version": "1.2.0",
            "_model_name": "LayoutModel",
            "_view_count": null,
            "_view_module": "@jupyter-widgets/base",
            "_view_module_version": "1.2.0",
            "_view_name": "LayoutView",
            "align_content": null,
            "align_items": null,
            "align_self": null,
            "border": null,
            "bottom": null,
            "display": null,
            "flex": null,
            "flex_flow": null,
            "grid_area": null,
            "grid_auto_columns": null,
            "grid_auto_flow": null,
            "grid_auto_rows": null,
            "grid_column": null,
            "grid_gap": null,
            "grid_row": null,
            "grid_template_areas": null,
            "grid_template_columns": null,
            "grid_template_rows": null,
            "height": null,
            "justify_content": null,
            "justify_items": null,
            "left": null,
            "margin": null,
            "max_height": null,
            "max_width": null,
            "min_height": null,
            "min_width": null,
            "object_fit": null,
            "object_position": null,
            "order": null,
            "overflow": null,
            "overflow_x": null,
            "overflow_y": null,
            "padding": null,
            "right": null,
            "top": null,
            "visibility": null,
            "width": null
          }
        },
        "907af0e610d4445ea6d460426c4437ca": {
          "model_module": "@jupyter-widgets/controls",
          "model_name": "ProgressStyleModel",
          "model_module_version": "1.5.0",
          "state": {
            "_model_module": "@jupyter-widgets/controls",
            "_model_module_version": "1.5.0",
            "_model_name": "ProgressStyleModel",
            "_view_count": null,
            "_view_module": "@jupyter-widgets/base",
            "_view_module_version": "1.2.0",
            "_view_name": "StyleView",
            "bar_color": null,
            "description_width": ""
          }
        },
        "cd64e55e0bbb41918c1160f8cf337480": {
          "model_module": "@jupyter-widgets/base",
          "model_name": "LayoutModel",
          "model_module_version": "1.2.0",
          "state": {
            "_model_module": "@jupyter-widgets/base",
            "_model_module_version": "1.2.0",
            "_model_name": "LayoutModel",
            "_view_count": null,
            "_view_module": "@jupyter-widgets/base",
            "_view_module_version": "1.2.0",
            "_view_name": "LayoutView",
            "align_content": null,
            "align_items": null,
            "align_self": null,
            "border": null,
            "bottom": null,
            "display": null,
            "flex": null,
            "flex_flow": null,
            "grid_area": null,
            "grid_auto_columns": null,
            "grid_auto_flow": null,
            "grid_auto_rows": null,
            "grid_column": null,
            "grid_gap": null,
            "grid_row": null,
            "grid_template_areas": null,
            "grid_template_columns": null,
            "grid_template_rows": null,
            "height": null,
            "justify_content": null,
            "justify_items": null,
            "left": null,
            "margin": null,
            "max_height": null,
            "max_width": null,
            "min_height": null,
            "min_width": null,
            "object_fit": null,
            "object_position": null,
            "order": null,
            "overflow": null,
            "overflow_x": null,
            "overflow_y": null,
            "padding": null,
            "right": null,
            "top": null,
            "visibility": null,
            "width": null
          }
        },
        "a32efc8c667b4463b88442aca26a075b": {
          "model_module": "@jupyter-widgets/controls",
          "model_name": "DescriptionStyleModel",
          "model_module_version": "1.5.0",
          "state": {
            "_model_module": "@jupyter-widgets/controls",
            "_model_module_version": "1.5.0",
            "_model_name": "DescriptionStyleModel",
            "_view_count": null,
            "_view_module": "@jupyter-widgets/base",
            "_view_module_version": "1.2.0",
            "_view_name": "StyleView",
            "description_width": ""
          }
        },
        "3c7d0bf9b41745358fa5f82a1babadbb": {
          "model_module": "@jupyter-widgets/controls",
          "model_name": "HBoxModel",
          "model_module_version": "1.5.0",
          "state": {
            "_dom_classes": [],
            "_model_module": "@jupyter-widgets/controls",
            "_model_module_version": "1.5.0",
            "_model_name": "HBoxModel",
            "_view_count": null,
            "_view_module": "@jupyter-widgets/controls",
            "_view_module_version": "1.5.0",
            "_view_name": "HBoxView",
            "box_style": "",
            "children": [
              "IPY_MODEL_8be1c43744a947fc8c2dd5f3cbf6b6fb",
              "IPY_MODEL_b4df37b6fd214211abfa8ff12e043eac",
              "IPY_MODEL_7ecbdcdef9964934adf50e2550623026"
            ],
            "layout": "IPY_MODEL_7bc450bf59354a09af41381dd707e3b5"
          }
        },
        "8be1c43744a947fc8c2dd5f3cbf6b6fb": {
          "model_module": "@jupyter-widgets/controls",
          "model_name": "HTMLModel",
          "model_module_version": "1.5.0",
          "state": {
            "_dom_classes": [],
            "_model_module": "@jupyter-widgets/controls",
            "_model_module_version": "1.5.0",
            "_model_name": "HTMLModel",
            "_view_count": null,
            "_view_module": "@jupyter-widgets/controls",
            "_view_module_version": "1.5.0",
            "_view_name": "HTMLView",
            "description": "",
            "description_tooltip": null,
            "layout": "IPY_MODEL_b518a42a318a4fbca1bd6eb8f5a66275",
            "placeholder": "​",
            "style": "IPY_MODEL_d6208746e66740e0bff8fcf723b257ab",
            "value": "vocab.txt: 100%"
          }
        },
        "b4df37b6fd214211abfa8ff12e043eac": {
          "model_module": "@jupyter-widgets/controls",
          "model_name": "FloatProgressModel",
          "model_module_version": "1.5.0",
          "state": {
            "_dom_classes": [],
            "_model_module": "@jupyter-widgets/controls",
            "_model_module_version": "1.5.0",
            "_model_name": "FloatProgressModel",
            "_view_count": null,
            "_view_module": "@jupyter-widgets/controls",
            "_view_module_version": "1.5.0",
            "_view_name": "ProgressView",
            "bar_style": "success",
            "description": "",
            "description_tooltip": null,
            "layout": "IPY_MODEL_62930f47679f4dd1bccefcd3d19ed82c",
            "max": 231508,
            "min": 0,
            "orientation": "horizontal",
            "style": "IPY_MODEL_74c0983edde2441da818f22b92cf5f8e",
            "value": 231508
          }
        },
        "7ecbdcdef9964934adf50e2550623026": {
          "model_module": "@jupyter-widgets/controls",
          "model_name": "HTMLModel",
          "model_module_version": "1.5.0",
          "state": {
            "_dom_classes": [],
            "_model_module": "@jupyter-widgets/controls",
            "_model_module_version": "1.5.0",
            "_model_name": "HTMLModel",
            "_view_count": null,
            "_view_module": "@jupyter-widgets/controls",
            "_view_module_version": "1.5.0",
            "_view_name": "HTMLView",
            "description": "",
            "description_tooltip": null,
            "layout": "IPY_MODEL_6337172360eb47ab9e2dafa7724ab6e8",
            "placeholder": "​",
            "style": "IPY_MODEL_89d6b1f445864d7aa66504fe512f9c3f",
            "value": " 232k/232k [00:00&lt;00:00, 2.98MB/s]"
          }
        },
        "7bc450bf59354a09af41381dd707e3b5": {
          "model_module": "@jupyter-widgets/base",
          "model_name": "LayoutModel",
          "model_module_version": "1.2.0",
          "state": {
            "_model_module": "@jupyter-widgets/base",
            "_model_module_version": "1.2.0",
            "_model_name": "LayoutModel",
            "_view_count": null,
            "_view_module": "@jupyter-widgets/base",
            "_view_module_version": "1.2.0",
            "_view_name": "LayoutView",
            "align_content": null,
            "align_items": null,
            "align_self": null,
            "border": null,
            "bottom": null,
            "display": null,
            "flex": null,
            "flex_flow": null,
            "grid_area": null,
            "grid_auto_columns": null,
            "grid_auto_flow": null,
            "grid_auto_rows": null,
            "grid_column": null,
            "grid_gap": null,
            "grid_row": null,
            "grid_template_areas": null,
            "grid_template_columns": null,
            "grid_template_rows": null,
            "height": null,
            "justify_content": null,
            "justify_items": null,
            "left": null,
            "margin": null,
            "max_height": null,
            "max_width": null,
            "min_height": null,
            "min_width": null,
            "object_fit": null,
            "object_position": null,
            "order": null,
            "overflow": null,
            "overflow_x": null,
            "overflow_y": null,
            "padding": null,
            "right": null,
            "top": null,
            "visibility": null,
            "width": null
          }
        },
        "b518a42a318a4fbca1bd6eb8f5a66275": {
          "model_module": "@jupyter-widgets/base",
          "model_name": "LayoutModel",
          "model_module_version": "1.2.0",
          "state": {
            "_model_module": "@jupyter-widgets/base",
            "_model_module_version": "1.2.0",
            "_model_name": "LayoutModel",
            "_view_count": null,
            "_view_module": "@jupyter-widgets/base",
            "_view_module_version": "1.2.0",
            "_view_name": "LayoutView",
            "align_content": null,
            "align_items": null,
            "align_self": null,
            "border": null,
            "bottom": null,
            "display": null,
            "flex": null,
            "flex_flow": null,
            "grid_area": null,
            "grid_auto_columns": null,
            "grid_auto_flow": null,
            "grid_auto_rows": null,
            "grid_column": null,
            "grid_gap": null,
            "grid_row": null,
            "grid_template_areas": null,
            "grid_template_columns": null,
            "grid_template_rows": null,
            "height": null,
            "justify_content": null,
            "justify_items": null,
            "left": null,
            "margin": null,
            "max_height": null,
            "max_width": null,
            "min_height": null,
            "min_width": null,
            "object_fit": null,
            "object_position": null,
            "order": null,
            "overflow": null,
            "overflow_x": null,
            "overflow_y": null,
            "padding": null,
            "right": null,
            "top": null,
            "visibility": null,
            "width": null
          }
        },
        "d6208746e66740e0bff8fcf723b257ab": {
          "model_module": "@jupyter-widgets/controls",
          "model_name": "DescriptionStyleModel",
          "model_module_version": "1.5.0",
          "state": {
            "_model_module": "@jupyter-widgets/controls",
            "_model_module_version": "1.5.0",
            "_model_name": "DescriptionStyleModel",
            "_view_count": null,
            "_view_module": "@jupyter-widgets/base",
            "_view_module_version": "1.2.0",
            "_view_name": "StyleView",
            "description_width": ""
          }
        },
        "62930f47679f4dd1bccefcd3d19ed82c": {
          "model_module": "@jupyter-widgets/base",
          "model_name": "LayoutModel",
          "model_module_version": "1.2.0",
          "state": {
            "_model_module": "@jupyter-widgets/base",
            "_model_module_version": "1.2.0",
            "_model_name": "LayoutModel",
            "_view_count": null,
            "_view_module": "@jupyter-widgets/base",
            "_view_module_version": "1.2.0",
            "_view_name": "LayoutView",
            "align_content": null,
            "align_items": null,
            "align_self": null,
            "border": null,
            "bottom": null,
            "display": null,
            "flex": null,
            "flex_flow": null,
            "grid_area": null,
            "grid_auto_columns": null,
            "grid_auto_flow": null,
            "grid_auto_rows": null,
            "grid_column": null,
            "grid_gap": null,
            "grid_row": null,
            "grid_template_areas": null,
            "grid_template_columns": null,
            "grid_template_rows": null,
            "height": null,
            "justify_content": null,
            "justify_items": null,
            "left": null,
            "margin": null,
            "max_height": null,
            "max_width": null,
            "min_height": null,
            "min_width": null,
            "object_fit": null,
            "object_position": null,
            "order": null,
            "overflow": null,
            "overflow_x": null,
            "overflow_y": null,
            "padding": null,
            "right": null,
            "top": null,
            "visibility": null,
            "width": null
          }
        },
        "74c0983edde2441da818f22b92cf5f8e": {
          "model_module": "@jupyter-widgets/controls",
          "model_name": "ProgressStyleModel",
          "model_module_version": "1.5.0",
          "state": {
            "_model_module": "@jupyter-widgets/controls",
            "_model_module_version": "1.5.0",
            "_model_name": "ProgressStyleModel",
            "_view_count": null,
            "_view_module": "@jupyter-widgets/base",
            "_view_module_version": "1.2.0",
            "_view_name": "StyleView",
            "bar_color": null,
            "description_width": ""
          }
        },
        "6337172360eb47ab9e2dafa7724ab6e8": {
          "model_module": "@jupyter-widgets/base",
          "model_name": "LayoutModel",
          "model_module_version": "1.2.0",
          "state": {
            "_model_module": "@jupyter-widgets/base",
            "_model_module_version": "1.2.0",
            "_model_name": "LayoutModel",
            "_view_count": null,
            "_view_module": "@jupyter-widgets/base",
            "_view_module_version": "1.2.0",
            "_view_name": "LayoutView",
            "align_content": null,
            "align_items": null,
            "align_self": null,
            "border": null,
            "bottom": null,
            "display": null,
            "flex": null,
            "flex_flow": null,
            "grid_area": null,
            "grid_auto_columns": null,
            "grid_auto_flow": null,
            "grid_auto_rows": null,
            "grid_column": null,
            "grid_gap": null,
            "grid_row": null,
            "grid_template_areas": null,
            "grid_template_columns": null,
            "grid_template_rows": null,
            "height": null,
            "justify_content": null,
            "justify_items": null,
            "left": null,
            "margin": null,
            "max_height": null,
            "max_width": null,
            "min_height": null,
            "min_width": null,
            "object_fit": null,
            "object_position": null,
            "order": null,
            "overflow": null,
            "overflow_x": null,
            "overflow_y": null,
            "padding": null,
            "right": null,
            "top": null,
            "visibility": null,
            "width": null
          }
        },
        "89d6b1f445864d7aa66504fe512f9c3f": {
          "model_module": "@jupyter-widgets/controls",
          "model_name": "DescriptionStyleModel",
          "model_module_version": "1.5.0",
          "state": {
            "_model_module": "@jupyter-widgets/controls",
            "_model_module_version": "1.5.0",
            "_model_name": "DescriptionStyleModel",
            "_view_count": null,
            "_view_module": "@jupyter-widgets/base",
            "_view_module_version": "1.2.0",
            "_view_name": "StyleView",
            "description_width": ""
          }
        },
        "862c05ee1a134132827a0b951911db2c": {
          "model_module": "@jupyter-widgets/controls",
          "model_name": "HBoxModel",
          "model_module_version": "1.5.0",
          "state": {
            "_dom_classes": [],
            "_model_module": "@jupyter-widgets/controls",
            "_model_module_version": "1.5.0",
            "_model_name": "HBoxModel",
            "_view_count": null,
            "_view_module": "@jupyter-widgets/controls",
            "_view_module_version": "1.5.0",
            "_view_name": "HBoxView",
            "box_style": "",
            "children": [
              "IPY_MODEL_47ff1910e0bf4edb9216139babde9eb9",
              "IPY_MODEL_80a69352a4e44ceebe43f07a414829dc",
              "IPY_MODEL_912b4653f0ce4e1abe5709341c30440c"
            ],
            "layout": "IPY_MODEL_38630ffe84584f9fb5f00acd66742e04"
          }
        },
        "47ff1910e0bf4edb9216139babde9eb9": {
          "model_module": "@jupyter-widgets/controls",
          "model_name": "HTMLModel",
          "model_module_version": "1.5.0",
          "state": {
            "_dom_classes": [],
            "_model_module": "@jupyter-widgets/controls",
            "_model_module_version": "1.5.0",
            "_model_name": "HTMLModel",
            "_view_count": null,
            "_view_module": "@jupyter-widgets/controls",
            "_view_module_version": "1.5.0",
            "_view_name": "HTMLView",
            "description": "",
            "description_tooltip": null,
            "layout": "IPY_MODEL_c632934507284b36b84ccee4f7494c10",
            "placeholder": "​",
            "style": "IPY_MODEL_cf5c46720a9942b0bf03f43c2f63f876",
            "value": "tokenizer.json: 100%"
          }
        },
        "80a69352a4e44ceebe43f07a414829dc": {
          "model_module": "@jupyter-widgets/controls",
          "model_name": "FloatProgressModel",
          "model_module_version": "1.5.0",
          "state": {
            "_dom_classes": [],
            "_model_module": "@jupyter-widgets/controls",
            "_model_module_version": "1.5.0",
            "_model_name": "FloatProgressModel",
            "_view_count": null,
            "_view_module": "@jupyter-widgets/controls",
            "_view_module_version": "1.5.0",
            "_view_name": "ProgressView",
            "bar_style": "success",
            "description": "",
            "description_tooltip": null,
            "layout": "IPY_MODEL_e0b79d2134bd48d48bc83bb120f8886c",
            "max": 466062,
            "min": 0,
            "orientation": "horizontal",
            "style": "IPY_MODEL_bd2c9eb633fe47579f6ae23b691dec1b",
            "value": 466062
          }
        },
        "912b4653f0ce4e1abe5709341c30440c": {
          "model_module": "@jupyter-widgets/controls",
          "model_name": "HTMLModel",
          "model_module_version": "1.5.0",
          "state": {
            "_dom_classes": [],
            "_model_module": "@jupyter-widgets/controls",
            "_model_module_version": "1.5.0",
            "_model_name": "HTMLModel",
            "_view_count": null,
            "_view_module": "@jupyter-widgets/controls",
            "_view_module_version": "1.5.0",
            "_view_name": "HTMLView",
            "description": "",
            "description_tooltip": null,
            "layout": "IPY_MODEL_dc263e84dab54f4888c5fdf16cbb0a7e",
            "placeholder": "​",
            "style": "IPY_MODEL_51d1ca324bbf4c0fb8e1613a2623be01",
            "value": " 466k/466k [00:00&lt;00:00, 7.84MB/s]"
          }
        },
        "38630ffe84584f9fb5f00acd66742e04": {
          "model_module": "@jupyter-widgets/base",
          "model_name": "LayoutModel",
          "model_module_version": "1.2.0",
          "state": {
            "_model_module": "@jupyter-widgets/base",
            "_model_module_version": "1.2.0",
            "_model_name": "LayoutModel",
            "_view_count": null,
            "_view_module": "@jupyter-widgets/base",
            "_view_module_version": "1.2.0",
            "_view_name": "LayoutView",
            "align_content": null,
            "align_items": null,
            "align_self": null,
            "border": null,
            "bottom": null,
            "display": null,
            "flex": null,
            "flex_flow": null,
            "grid_area": null,
            "grid_auto_columns": null,
            "grid_auto_flow": null,
            "grid_auto_rows": null,
            "grid_column": null,
            "grid_gap": null,
            "grid_row": null,
            "grid_template_areas": null,
            "grid_template_columns": null,
            "grid_template_rows": null,
            "height": null,
            "justify_content": null,
            "justify_items": null,
            "left": null,
            "margin": null,
            "max_height": null,
            "max_width": null,
            "min_height": null,
            "min_width": null,
            "object_fit": null,
            "object_position": null,
            "order": null,
            "overflow": null,
            "overflow_x": null,
            "overflow_y": null,
            "padding": null,
            "right": null,
            "top": null,
            "visibility": null,
            "width": null
          }
        },
        "c632934507284b36b84ccee4f7494c10": {
          "model_module": "@jupyter-widgets/base",
          "model_name": "LayoutModel",
          "model_module_version": "1.2.0",
          "state": {
            "_model_module": "@jupyter-widgets/base",
            "_model_module_version": "1.2.0",
            "_model_name": "LayoutModel",
            "_view_count": null,
            "_view_module": "@jupyter-widgets/base",
            "_view_module_version": "1.2.0",
            "_view_name": "LayoutView",
            "align_content": null,
            "align_items": null,
            "align_self": null,
            "border": null,
            "bottom": null,
            "display": null,
            "flex": null,
            "flex_flow": null,
            "grid_area": null,
            "grid_auto_columns": null,
            "grid_auto_flow": null,
            "grid_auto_rows": null,
            "grid_column": null,
            "grid_gap": null,
            "grid_row": null,
            "grid_template_areas": null,
            "grid_template_columns": null,
            "grid_template_rows": null,
            "height": null,
            "justify_content": null,
            "justify_items": null,
            "left": null,
            "margin": null,
            "max_height": null,
            "max_width": null,
            "min_height": null,
            "min_width": null,
            "object_fit": null,
            "object_position": null,
            "order": null,
            "overflow": null,
            "overflow_x": null,
            "overflow_y": null,
            "padding": null,
            "right": null,
            "top": null,
            "visibility": null,
            "width": null
          }
        },
        "cf5c46720a9942b0bf03f43c2f63f876": {
          "model_module": "@jupyter-widgets/controls",
          "model_name": "DescriptionStyleModel",
          "model_module_version": "1.5.0",
          "state": {
            "_model_module": "@jupyter-widgets/controls",
            "_model_module_version": "1.5.0",
            "_model_name": "DescriptionStyleModel",
            "_view_count": null,
            "_view_module": "@jupyter-widgets/base",
            "_view_module_version": "1.2.0",
            "_view_name": "StyleView",
            "description_width": ""
          }
        },
        "e0b79d2134bd48d48bc83bb120f8886c": {
          "model_module": "@jupyter-widgets/base",
          "model_name": "LayoutModel",
          "model_module_version": "1.2.0",
          "state": {
            "_model_module": "@jupyter-widgets/base",
            "_model_module_version": "1.2.0",
            "_model_name": "LayoutModel",
            "_view_count": null,
            "_view_module": "@jupyter-widgets/base",
            "_view_module_version": "1.2.0",
            "_view_name": "LayoutView",
            "align_content": null,
            "align_items": null,
            "align_self": null,
            "border": null,
            "bottom": null,
            "display": null,
            "flex": null,
            "flex_flow": null,
            "grid_area": null,
            "grid_auto_columns": null,
            "grid_auto_flow": null,
            "grid_auto_rows": null,
            "grid_column": null,
            "grid_gap": null,
            "grid_row": null,
            "grid_template_areas": null,
            "grid_template_columns": null,
            "grid_template_rows": null,
            "height": null,
            "justify_content": null,
            "justify_items": null,
            "left": null,
            "margin": null,
            "max_height": null,
            "max_width": null,
            "min_height": null,
            "min_width": null,
            "object_fit": null,
            "object_position": null,
            "order": null,
            "overflow": null,
            "overflow_x": null,
            "overflow_y": null,
            "padding": null,
            "right": null,
            "top": null,
            "visibility": null,
            "width": null
          }
        },
        "bd2c9eb633fe47579f6ae23b691dec1b": {
          "model_module": "@jupyter-widgets/controls",
          "model_name": "ProgressStyleModel",
          "model_module_version": "1.5.0",
          "state": {
            "_model_module": "@jupyter-widgets/controls",
            "_model_module_version": "1.5.0",
            "_model_name": "ProgressStyleModel",
            "_view_count": null,
            "_view_module": "@jupyter-widgets/base",
            "_view_module_version": "1.2.0",
            "_view_name": "StyleView",
            "bar_color": null,
            "description_width": ""
          }
        },
        "dc263e84dab54f4888c5fdf16cbb0a7e": {
          "model_module": "@jupyter-widgets/base",
          "model_name": "LayoutModel",
          "model_module_version": "1.2.0",
          "state": {
            "_model_module": "@jupyter-widgets/base",
            "_model_module_version": "1.2.0",
            "_model_name": "LayoutModel",
            "_view_count": null,
            "_view_module": "@jupyter-widgets/base",
            "_view_module_version": "1.2.0",
            "_view_name": "LayoutView",
            "align_content": null,
            "align_items": null,
            "align_self": null,
            "border": null,
            "bottom": null,
            "display": null,
            "flex": null,
            "flex_flow": null,
            "grid_area": null,
            "grid_auto_columns": null,
            "grid_auto_flow": null,
            "grid_auto_rows": null,
            "grid_column": null,
            "grid_gap": null,
            "grid_row": null,
            "grid_template_areas": null,
            "grid_template_columns": null,
            "grid_template_rows": null,
            "height": null,
            "justify_content": null,
            "justify_items": null,
            "left": null,
            "margin": null,
            "max_height": null,
            "max_width": null,
            "min_height": null,
            "min_width": null,
            "object_fit": null,
            "object_position": null,
            "order": null,
            "overflow": null,
            "overflow_x": null,
            "overflow_y": null,
            "padding": null,
            "right": null,
            "top": null,
            "visibility": null,
            "width": null
          }
        },
        "51d1ca324bbf4c0fb8e1613a2623be01": {
          "model_module": "@jupyter-widgets/controls",
          "model_name": "DescriptionStyleModel",
          "model_module_version": "1.5.0",
          "state": {
            "_model_module": "@jupyter-widgets/controls",
            "_model_module_version": "1.5.0",
            "_model_name": "DescriptionStyleModel",
            "_view_count": null,
            "_view_module": "@jupyter-widgets/base",
            "_view_module_version": "1.2.0",
            "_view_name": "StyleView",
            "description_width": ""
          }
        },
        "37eb9431267245ddaa53085a03df494c": {
          "model_module": "@jupyter-widgets/controls",
          "model_name": "HBoxModel",
          "model_module_version": "1.5.0",
          "state": {
            "_dom_classes": [],
            "_model_module": "@jupyter-widgets/controls",
            "_model_module_version": "1.5.0",
            "_model_name": "HBoxModel",
            "_view_count": null,
            "_view_module": "@jupyter-widgets/controls",
            "_view_module_version": "1.5.0",
            "_view_name": "HBoxView",
            "box_style": "",
            "children": [
              "IPY_MODEL_440f6a34b0f64a7ab2834e4dc2e3874c",
              "IPY_MODEL_d8896803236445349ed28bb1ea4bf68a",
              "IPY_MODEL_ab03871e21bf45c3937b4e527b791c18"
            ],
            "layout": "IPY_MODEL_cb8ba8a587584016af8777e9a9b800a2"
          }
        },
        "440f6a34b0f64a7ab2834e4dc2e3874c": {
          "model_module": "@jupyter-widgets/controls",
          "model_name": "HTMLModel",
          "model_module_version": "1.5.0",
          "state": {
            "_dom_classes": [],
            "_model_module": "@jupyter-widgets/controls",
            "_model_module_version": "1.5.0",
            "_model_name": "HTMLModel",
            "_view_count": null,
            "_view_module": "@jupyter-widgets/controls",
            "_view_module_version": "1.5.0",
            "_view_name": "HTMLView",
            "description": "",
            "description_tooltip": null,
            "layout": "IPY_MODEL_ca917a6fa5204c3cab1fbdb5cbd60b38",
            "placeholder": "​",
            "style": "IPY_MODEL_364d0ac8dc964934858f6dd24891e421",
            "value": "config.json: 100%"
          }
        },
        "d8896803236445349ed28bb1ea4bf68a": {
          "model_module": "@jupyter-widgets/controls",
          "model_name": "FloatProgressModel",
          "model_module_version": "1.5.0",
          "state": {
            "_dom_classes": [],
            "_model_module": "@jupyter-widgets/controls",
            "_model_module_version": "1.5.0",
            "_model_name": "FloatProgressModel",
            "_view_count": null,
            "_view_module": "@jupyter-widgets/controls",
            "_view_module_version": "1.5.0",
            "_view_name": "ProgressView",
            "bar_style": "success",
            "description": "",
            "description_tooltip": null,
            "layout": "IPY_MODEL_d3f71ea0569542efb8af35fbec8bb44a",
            "max": 570,
            "min": 0,
            "orientation": "horizontal",
            "style": "IPY_MODEL_6db7f89079d44f9ab7ec25f5463fbb01",
            "value": 570
          }
        },
        "ab03871e21bf45c3937b4e527b791c18": {
          "model_module": "@jupyter-widgets/controls",
          "model_name": "HTMLModel",
          "model_module_version": "1.5.0",
          "state": {
            "_dom_classes": [],
            "_model_module": "@jupyter-widgets/controls",
            "_model_module_version": "1.5.0",
            "_model_name": "HTMLModel",
            "_view_count": null,
            "_view_module": "@jupyter-widgets/controls",
            "_view_module_version": "1.5.0",
            "_view_name": "HTMLView",
            "description": "",
            "description_tooltip": null,
            "layout": "IPY_MODEL_9a35cbf1904841b8aa05b7cd8f259bf0",
            "placeholder": "​",
            "style": "IPY_MODEL_fc498a55e95d4d2fa4e518238485bb57",
            "value": " 570/570 [00:00&lt;00:00, 32.0kB/s]"
          }
        },
        "cb8ba8a587584016af8777e9a9b800a2": {
          "model_module": "@jupyter-widgets/base",
          "model_name": "LayoutModel",
          "model_module_version": "1.2.0",
          "state": {
            "_model_module": "@jupyter-widgets/base",
            "_model_module_version": "1.2.0",
            "_model_name": "LayoutModel",
            "_view_count": null,
            "_view_module": "@jupyter-widgets/base",
            "_view_module_version": "1.2.0",
            "_view_name": "LayoutView",
            "align_content": null,
            "align_items": null,
            "align_self": null,
            "border": null,
            "bottom": null,
            "display": null,
            "flex": null,
            "flex_flow": null,
            "grid_area": null,
            "grid_auto_columns": null,
            "grid_auto_flow": null,
            "grid_auto_rows": null,
            "grid_column": null,
            "grid_gap": null,
            "grid_row": null,
            "grid_template_areas": null,
            "grid_template_columns": null,
            "grid_template_rows": null,
            "height": null,
            "justify_content": null,
            "justify_items": null,
            "left": null,
            "margin": null,
            "max_height": null,
            "max_width": null,
            "min_height": null,
            "min_width": null,
            "object_fit": null,
            "object_position": null,
            "order": null,
            "overflow": null,
            "overflow_x": null,
            "overflow_y": null,
            "padding": null,
            "right": null,
            "top": null,
            "visibility": null,
            "width": null
          }
        },
        "ca917a6fa5204c3cab1fbdb5cbd60b38": {
          "model_module": "@jupyter-widgets/base",
          "model_name": "LayoutModel",
          "model_module_version": "1.2.0",
          "state": {
            "_model_module": "@jupyter-widgets/base",
            "_model_module_version": "1.2.0",
            "_model_name": "LayoutModel",
            "_view_count": null,
            "_view_module": "@jupyter-widgets/base",
            "_view_module_version": "1.2.0",
            "_view_name": "LayoutView",
            "align_content": null,
            "align_items": null,
            "align_self": null,
            "border": null,
            "bottom": null,
            "display": null,
            "flex": null,
            "flex_flow": null,
            "grid_area": null,
            "grid_auto_columns": null,
            "grid_auto_flow": null,
            "grid_auto_rows": null,
            "grid_column": null,
            "grid_gap": null,
            "grid_row": null,
            "grid_template_areas": null,
            "grid_template_columns": null,
            "grid_template_rows": null,
            "height": null,
            "justify_content": null,
            "justify_items": null,
            "left": null,
            "margin": null,
            "max_height": null,
            "max_width": null,
            "min_height": null,
            "min_width": null,
            "object_fit": null,
            "object_position": null,
            "order": null,
            "overflow": null,
            "overflow_x": null,
            "overflow_y": null,
            "padding": null,
            "right": null,
            "top": null,
            "visibility": null,
            "width": null
          }
        },
        "364d0ac8dc964934858f6dd24891e421": {
          "model_module": "@jupyter-widgets/controls",
          "model_name": "DescriptionStyleModel",
          "model_module_version": "1.5.0",
          "state": {
            "_model_module": "@jupyter-widgets/controls",
            "_model_module_version": "1.5.0",
            "_model_name": "DescriptionStyleModel",
            "_view_count": null,
            "_view_module": "@jupyter-widgets/base",
            "_view_module_version": "1.2.0",
            "_view_name": "StyleView",
            "description_width": ""
          }
        },
        "d3f71ea0569542efb8af35fbec8bb44a": {
          "model_module": "@jupyter-widgets/base",
          "model_name": "LayoutModel",
          "model_module_version": "1.2.0",
          "state": {
            "_model_module": "@jupyter-widgets/base",
            "_model_module_version": "1.2.0",
            "_model_name": "LayoutModel",
            "_view_count": null,
            "_view_module": "@jupyter-widgets/base",
            "_view_module_version": "1.2.0",
            "_view_name": "LayoutView",
            "align_content": null,
            "align_items": null,
            "align_self": null,
            "border": null,
            "bottom": null,
            "display": null,
            "flex": null,
            "flex_flow": null,
            "grid_area": null,
            "grid_auto_columns": null,
            "grid_auto_flow": null,
            "grid_auto_rows": null,
            "grid_column": null,
            "grid_gap": null,
            "grid_row": null,
            "grid_template_areas": null,
            "grid_template_columns": null,
            "grid_template_rows": null,
            "height": null,
            "justify_content": null,
            "justify_items": null,
            "left": null,
            "margin": null,
            "max_height": null,
            "max_width": null,
            "min_height": null,
            "min_width": null,
            "object_fit": null,
            "object_position": null,
            "order": null,
            "overflow": null,
            "overflow_x": null,
            "overflow_y": null,
            "padding": null,
            "right": null,
            "top": null,
            "visibility": null,
            "width": null
          }
        },
        "6db7f89079d44f9ab7ec25f5463fbb01": {
          "model_module": "@jupyter-widgets/controls",
          "model_name": "ProgressStyleModel",
          "model_module_version": "1.5.0",
          "state": {
            "_model_module": "@jupyter-widgets/controls",
            "_model_module_version": "1.5.0",
            "_model_name": "ProgressStyleModel",
            "_view_count": null,
            "_view_module": "@jupyter-widgets/base",
            "_view_module_version": "1.2.0",
            "_view_name": "StyleView",
            "bar_color": null,
            "description_width": ""
          }
        },
        "9a35cbf1904841b8aa05b7cd8f259bf0": {
          "model_module": "@jupyter-widgets/base",
          "model_name": "LayoutModel",
          "model_module_version": "1.2.0",
          "state": {
            "_model_module": "@jupyter-widgets/base",
            "_model_module_version": "1.2.0",
            "_model_name": "LayoutModel",
            "_view_count": null,
            "_view_module": "@jupyter-widgets/base",
            "_view_module_version": "1.2.0",
            "_view_name": "LayoutView",
            "align_content": null,
            "align_items": null,
            "align_self": null,
            "border": null,
            "bottom": null,
            "display": null,
            "flex": null,
            "flex_flow": null,
            "grid_area": null,
            "grid_auto_columns": null,
            "grid_auto_flow": null,
            "grid_auto_rows": null,
            "grid_column": null,
            "grid_gap": null,
            "grid_row": null,
            "grid_template_areas": null,
            "grid_template_columns": null,
            "grid_template_rows": null,
            "height": null,
            "justify_content": null,
            "justify_items": null,
            "left": null,
            "margin": null,
            "max_height": null,
            "max_width": null,
            "min_height": null,
            "min_width": null,
            "object_fit": null,
            "object_position": null,
            "order": null,
            "overflow": null,
            "overflow_x": null,
            "overflow_y": null,
            "padding": null,
            "right": null,
            "top": null,
            "visibility": null,
            "width": null
          }
        },
        "fc498a55e95d4d2fa4e518238485bb57": {
          "model_module": "@jupyter-widgets/controls",
          "model_name": "DescriptionStyleModel",
          "model_module_version": "1.5.0",
          "state": {
            "_model_module": "@jupyter-widgets/controls",
            "_model_module_version": "1.5.0",
            "_model_name": "DescriptionStyleModel",
            "_view_count": null,
            "_view_module": "@jupyter-widgets/base",
            "_view_module_version": "1.2.0",
            "_view_name": "StyleView",
            "description_width": ""
          }
        },
        "d8bc2d9bbd99446384acf27b124ef581": {
          "model_module": "@jupyter-widgets/controls",
          "model_name": "HBoxModel",
          "model_module_version": "1.5.0",
          "state": {
            "_dom_classes": [],
            "_model_module": "@jupyter-widgets/controls",
            "_model_module_version": "1.5.0",
            "_model_name": "HBoxModel",
            "_view_count": null,
            "_view_module": "@jupyter-widgets/controls",
            "_view_module_version": "1.5.0",
            "_view_name": "HBoxView",
            "box_style": "",
            "children": [
              "IPY_MODEL_fa6fe6ba32ac4596b5b36fd1ca9ed158",
              "IPY_MODEL_04a122d68f2a4f05ac3dfec1bac3973a",
              "IPY_MODEL_20678684e0de4f6aa98a9783318429a4"
            ],
            "layout": "IPY_MODEL_1fa1c25404444090b087433fae69eeb5"
          }
        },
        "fa6fe6ba32ac4596b5b36fd1ca9ed158": {
          "model_module": "@jupyter-widgets/controls",
          "model_name": "HTMLModel",
          "model_module_version": "1.5.0",
          "state": {
            "_dom_classes": [],
            "_model_module": "@jupyter-widgets/controls",
            "_model_module_version": "1.5.0",
            "_model_name": "HTMLModel",
            "_view_count": null,
            "_view_module": "@jupyter-widgets/controls",
            "_view_module_version": "1.5.0",
            "_view_name": "HTMLView",
            "description": "",
            "description_tooltip": null,
            "layout": "IPY_MODEL_366629ab6e0444169ba83058de4676fe",
            "placeholder": "​",
            "style": "IPY_MODEL_c6ce6776a9d646cfba49d5dbf5a657a2",
            "value": "model.safetensors: 100%"
          }
        },
        "04a122d68f2a4f05ac3dfec1bac3973a": {
          "model_module": "@jupyter-widgets/controls",
          "model_name": "FloatProgressModel",
          "model_module_version": "1.5.0",
          "state": {
            "_dom_classes": [],
            "_model_module": "@jupyter-widgets/controls",
            "_model_module_version": "1.5.0",
            "_model_name": "FloatProgressModel",
            "_view_count": null,
            "_view_module": "@jupyter-widgets/controls",
            "_view_module_version": "1.5.0",
            "_view_name": "ProgressView",
            "bar_style": "success",
            "description": "",
            "description_tooltip": null,
            "layout": "IPY_MODEL_13a1dd3af7fa4244813619a4f57064cc",
            "max": 440449768,
            "min": 0,
            "orientation": "horizontal",
            "style": "IPY_MODEL_416d777508e94516986cc553e59b801d",
            "value": 440449768
          }
        },
        "20678684e0de4f6aa98a9783318429a4": {
          "model_module": "@jupyter-widgets/controls",
          "model_name": "HTMLModel",
          "model_module_version": "1.5.0",
          "state": {
            "_dom_classes": [],
            "_model_module": "@jupyter-widgets/controls",
            "_model_module_version": "1.5.0",
            "_model_name": "HTMLModel",
            "_view_count": null,
            "_view_module": "@jupyter-widgets/controls",
            "_view_module_version": "1.5.0",
            "_view_name": "HTMLView",
            "description": "",
            "description_tooltip": null,
            "layout": "IPY_MODEL_f38f9de3cddb49579a3fd07afe12f9d2",
            "placeholder": "​",
            "style": "IPY_MODEL_4bee46cbb4014b529a6755e021624518",
            "value": " 440M/440M [00:02&lt;00:00, 236MB/s]"
          }
        },
        "1fa1c25404444090b087433fae69eeb5": {
          "model_module": "@jupyter-widgets/base",
          "model_name": "LayoutModel",
          "model_module_version": "1.2.0",
          "state": {
            "_model_module": "@jupyter-widgets/base",
            "_model_module_version": "1.2.0",
            "_model_name": "LayoutModel",
            "_view_count": null,
            "_view_module": "@jupyter-widgets/base",
            "_view_module_version": "1.2.0",
            "_view_name": "LayoutView",
            "align_content": null,
            "align_items": null,
            "align_self": null,
            "border": null,
            "bottom": null,
            "display": null,
            "flex": null,
            "flex_flow": null,
            "grid_area": null,
            "grid_auto_columns": null,
            "grid_auto_flow": null,
            "grid_auto_rows": null,
            "grid_column": null,
            "grid_gap": null,
            "grid_row": null,
            "grid_template_areas": null,
            "grid_template_columns": null,
            "grid_template_rows": null,
            "height": null,
            "justify_content": null,
            "justify_items": null,
            "left": null,
            "margin": null,
            "max_height": null,
            "max_width": null,
            "min_height": null,
            "min_width": null,
            "object_fit": null,
            "object_position": null,
            "order": null,
            "overflow": null,
            "overflow_x": null,
            "overflow_y": null,
            "padding": null,
            "right": null,
            "top": null,
            "visibility": null,
            "width": null
          }
        },
        "366629ab6e0444169ba83058de4676fe": {
          "model_module": "@jupyter-widgets/base",
          "model_name": "LayoutModel",
          "model_module_version": "1.2.0",
          "state": {
            "_model_module": "@jupyter-widgets/base",
            "_model_module_version": "1.2.0",
            "_model_name": "LayoutModel",
            "_view_count": null,
            "_view_module": "@jupyter-widgets/base",
            "_view_module_version": "1.2.0",
            "_view_name": "LayoutView",
            "align_content": null,
            "align_items": null,
            "align_self": null,
            "border": null,
            "bottom": null,
            "display": null,
            "flex": null,
            "flex_flow": null,
            "grid_area": null,
            "grid_auto_columns": null,
            "grid_auto_flow": null,
            "grid_auto_rows": null,
            "grid_column": null,
            "grid_gap": null,
            "grid_row": null,
            "grid_template_areas": null,
            "grid_template_columns": null,
            "grid_template_rows": null,
            "height": null,
            "justify_content": null,
            "justify_items": null,
            "left": null,
            "margin": null,
            "max_height": null,
            "max_width": null,
            "min_height": null,
            "min_width": null,
            "object_fit": null,
            "object_position": null,
            "order": null,
            "overflow": null,
            "overflow_x": null,
            "overflow_y": null,
            "padding": null,
            "right": null,
            "top": null,
            "visibility": null,
            "width": null
          }
        },
        "c6ce6776a9d646cfba49d5dbf5a657a2": {
          "model_module": "@jupyter-widgets/controls",
          "model_name": "DescriptionStyleModel",
          "model_module_version": "1.5.0",
          "state": {
            "_model_module": "@jupyter-widgets/controls",
            "_model_module_version": "1.5.0",
            "_model_name": "DescriptionStyleModel",
            "_view_count": null,
            "_view_module": "@jupyter-widgets/base",
            "_view_module_version": "1.2.0",
            "_view_name": "StyleView",
            "description_width": ""
          }
        },
        "13a1dd3af7fa4244813619a4f57064cc": {
          "model_module": "@jupyter-widgets/base",
          "model_name": "LayoutModel",
          "model_module_version": "1.2.0",
          "state": {
            "_model_module": "@jupyter-widgets/base",
            "_model_module_version": "1.2.0",
            "_model_name": "LayoutModel",
            "_view_count": null,
            "_view_module": "@jupyter-widgets/base",
            "_view_module_version": "1.2.0",
            "_view_name": "LayoutView",
            "align_content": null,
            "align_items": null,
            "align_self": null,
            "border": null,
            "bottom": null,
            "display": null,
            "flex": null,
            "flex_flow": null,
            "grid_area": null,
            "grid_auto_columns": null,
            "grid_auto_flow": null,
            "grid_auto_rows": null,
            "grid_column": null,
            "grid_gap": null,
            "grid_row": null,
            "grid_template_areas": null,
            "grid_template_columns": null,
            "grid_template_rows": null,
            "height": null,
            "justify_content": null,
            "justify_items": null,
            "left": null,
            "margin": null,
            "max_height": null,
            "max_width": null,
            "min_height": null,
            "min_width": null,
            "object_fit": null,
            "object_position": null,
            "order": null,
            "overflow": null,
            "overflow_x": null,
            "overflow_y": null,
            "padding": null,
            "right": null,
            "top": null,
            "visibility": null,
            "width": null
          }
        },
        "416d777508e94516986cc553e59b801d": {
          "model_module": "@jupyter-widgets/controls",
          "model_name": "ProgressStyleModel",
          "model_module_version": "1.5.0",
          "state": {
            "_model_module": "@jupyter-widgets/controls",
            "_model_module_version": "1.5.0",
            "_model_name": "ProgressStyleModel",
            "_view_count": null,
            "_view_module": "@jupyter-widgets/base",
            "_view_module_version": "1.2.0",
            "_view_name": "StyleView",
            "bar_color": null,
            "description_width": ""
          }
        },
        "f38f9de3cddb49579a3fd07afe12f9d2": {
          "model_module": "@jupyter-widgets/base",
          "model_name": "LayoutModel",
          "model_module_version": "1.2.0",
          "state": {
            "_model_module": "@jupyter-widgets/base",
            "_model_module_version": "1.2.0",
            "_model_name": "LayoutModel",
            "_view_count": null,
            "_view_module": "@jupyter-widgets/base",
            "_view_module_version": "1.2.0",
            "_view_name": "LayoutView",
            "align_content": null,
            "align_items": null,
            "align_self": null,
            "border": null,
            "bottom": null,
            "display": null,
            "flex": null,
            "flex_flow": null,
            "grid_area": null,
            "grid_auto_columns": null,
            "grid_auto_flow": null,
            "grid_auto_rows": null,
            "grid_column": null,
            "grid_gap": null,
            "grid_row": null,
            "grid_template_areas": null,
            "grid_template_columns": null,
            "grid_template_rows": null,
            "height": null,
            "justify_content": null,
            "justify_items": null,
            "left": null,
            "margin": null,
            "max_height": null,
            "max_width": null,
            "min_height": null,
            "min_width": null,
            "object_fit": null,
            "object_position": null,
            "order": null,
            "overflow": null,
            "overflow_x": null,
            "overflow_y": null,
            "padding": null,
            "right": null,
            "top": null,
            "visibility": null,
            "width": null
          }
        },
        "4bee46cbb4014b529a6755e021624518": {
          "model_module": "@jupyter-widgets/controls",
          "model_name": "DescriptionStyleModel",
          "model_module_version": "1.5.0",
          "state": {
            "_model_module": "@jupyter-widgets/controls",
            "_model_module_version": "1.5.0",
            "_model_name": "DescriptionStyleModel",
            "_view_count": null,
            "_view_module": "@jupyter-widgets/base",
            "_view_module_version": "1.2.0",
            "_view_name": "StyleView",
            "description_width": ""
          }
        }
      }
    }
  },
  "cells": [
    {
      "cell_type": "markdown",
      "source": [
        "# **Twitter: NER NLP**\n",
        "# **Problem Statement**\n",
        "\n",
        "Twitter, a widely used social networking platform, generates over 500 million tweets per day. To enhance trend and topic analysis, Twitter aims to automatically tag and analyze tweet content without relying on user-provided hashtags, as users often omit hashtags or use incorrect ones. To solve this, Twitter requires a system that can recognize important content within tweets, tagging entities accurately regardless of hashtags.\n",
        "\n",
        "\n",
        "# **Importing libraries**"
      ],
      "metadata": {
        "id": "Gv1lQnQeeYfB"
      }
    },
    {
      "cell_type": "code",
      "source": [
        "import numpy as np\n",
        "import pandas as pd\n",
        "import matplotlib.pyplot as plt\n",
        "\n",
        "from collections import Counter\n",
        "\n",
        "from sklearn.model_selection import train_test_split\n",
        "from sklearn.preprocessing import LabelEncoder\n",
        "\n",
        "import tensorflow as tf\n",
        "from tensorflow.keras import Model\n",
        "from tensorflow.keras.utils import to_categorical\n",
        "from tensorflow.keras.preprocessing.text import Tokenizer\n",
        "from tensorflow.keras.preprocessing.sequence import pad_sequences\n",
        "from tensorflow.keras.layers import Embedding, LSTM, Dense, Dropout, Bidirectional, Input\n",
        "\n",
        "import tensorflow_addons as tfa\n",
        "from tensorflow_addons.losses import SigmoidFocalCrossEntropy\n",
        "from tensorflow_addons.optimizers import AdamW\n",
        "from tensorflow_addons.layers import CRF\n",
        "\n",
        "from nltk.tokenize import word_tokenize\n",
        "\n",
        "# To supress any warnings during the flow\n",
        "import warnings\n",
        "warnings.filterwarnings('ignore')"
      ],
      "metadata": {
        "id": "Tl5tnqrZP6y0",
        "colab": {
          "base_uri": "https://localhost:8080/"
        },
        "outputId": "35e54207-f1c6-41aa-f919-574557524737"
      },
      "execution_count": 1,
      "outputs": [
        {
          "output_type": "stream",
          "name": "stderr",
          "text": [
            "/usr/local/lib/python3.10/dist-packages/tensorflow_addons/utils/tfa_eol_msg.py:23: UserWarning: \n",
            "\n",
            "TensorFlow Addons (TFA) has ended development and introduction of new features.\n",
            "TFA has entered a minimal maintenance and release mode until a planned end of life in May 2024.\n",
            "Please modify downstream libraries to take dependencies from other repositories in our TensorFlow community (e.g. Keras, Keras-CV, and Keras-NLP). \n",
            "\n",
            "For more information see: https://github.com/tensorflow/addons/issues/2807 \n",
            "\n",
            "  warnings.warn(\n"
          ]
        }
      ]
    },
    {
      "cell_type": "code",
      "execution_count": 2,
      "metadata": {
        "id": "9RudD51hILvp"
      },
      "outputs": [],
      "source": [
        "def load_data(filepath):\n",
        "    sentences = []\n",
        "    labels = []\n",
        "    sentence = []\n",
        "    label = []\n",
        "    with open(filepath, \"r\") as file:\n",
        "        for line in file:\n",
        "            if line.strip():  # Non-empty line\n",
        "                word, tag = line.split()\n",
        "                sentence.append(word)\n",
        "                label.append(tag)\n",
        "            else:\n",
        "                if sentence:\n",
        "                    sentences.append(sentence)\n",
        "                    labels.append(label)\n",
        "                    sentence = []\n",
        "                    label = []\n",
        "    return sentences, labels\n",
        "\n",
        "# Load the training and test data\n",
        "train_sentences, train_labels = load_data('/content/drive/MyDrive/NER data/wnut 16.txt.conll')  # Specify correct file path\n",
        "test_sentences, test_labels = load_data('/content/drive/MyDrive/NER data/wnut 16test.txt.conll')    # Specify correct file path"
      ]
    },
    {
      "cell_type": "code",
      "source": [
        "print(\"Sample sentence:\", train_sentences[0])\n",
        "print(\"Sample labels:\", train_labels[0])"
      ],
      "metadata": {
        "id": "juXi5O53QGft",
        "colab": {
          "base_uri": "https://localhost:8080/"
        },
        "outputId": "cc3061c9-1e3b-42b0-acb0-4adf84a91a4b"
      },
      "execution_count": 3,
      "outputs": [
        {
          "output_type": "stream",
          "name": "stdout",
          "text": [
            "Sample sentence: ['@SammieLynnsMom', '@tg10781', 'they', 'will', 'be', 'all', 'done', 'by', 'Sunday', 'trust', 'me', '*wink*']\n",
            "Sample labels: ['O', 'O', 'O', 'O', 'O', 'O', 'O', 'O', 'O', 'O', 'O', 'O']\n"
          ]
        }
      ]
    },
    {
      "cell_type": "code",
      "source": [
        "from collections import Counter\n",
        "label_counts = Counter([label for labels in train_labels for label in labels])\n",
        "label_counts"
      ],
      "metadata": {
        "id": "-JMtTo_3IdMq",
        "colab": {
          "base_uri": "https://localhost:8080/"
        },
        "outputId": "d950a1c3-1cfd-4a6b-a44e-d4aab14663e2"
      },
      "execution_count": 4,
      "outputs": [
        {
          "output_type": "execute_result",
          "data": {
            "text/plain": [
              "Counter({'O': 44000,\n",
              "         'B-geo-loc': 276,\n",
              "         'B-facility': 104,\n",
              "         'I-facility': 105,\n",
              "         'B-movie': 34,\n",
              "         'I-movie': 46,\n",
              "         'B-company': 171,\n",
              "         'B-product': 97,\n",
              "         'B-person': 449,\n",
              "         'B-other': 225,\n",
              "         'I-other': 320,\n",
              "         'B-sportsteam': 51,\n",
              "         'I-sportsteam': 23,\n",
              "         'I-product': 80,\n",
              "         'I-company': 36,\n",
              "         'I-person': 215,\n",
              "         'I-geo-loc': 49,\n",
              "         'B-tvshow': 34,\n",
              "         'B-musicartist': 55,\n",
              "         'I-musicartist': 61,\n",
              "         'I-tvshow': 31})"
            ]
          },
          "metadata": {},
          "execution_count": 4
        }
      ]
    },
    {
      "cell_type": "code",
      "source": [
        "sentence_lengths = [len(sentence) for sentence in train_sentences]\n",
        "print(\"Average sentence length:\", sum(sentence_lengths) / len(sentence_lengths))\n",
        "print(\"Max sentence length:\", max(sentence_lengths))\n",
        "print(\"Min sentence length:\", min(sentence_lengths))"
      ],
      "metadata": {
        "colab": {
          "base_uri": "https://localhost:8080/"
        },
        "id": "gqKs9KuIIjw9",
        "outputId": "f7af5d12-0ed7-492d-ba5b-e913b4181e88"
      },
      "execution_count": 5,
      "outputs": [
        {
          "output_type": "stream",
          "name": "stdout",
          "text": [
            "Average sentence length: 19.415796071876304\n",
            "Max sentence length: 39\n",
            "Min sentence length: 1\n"
          ]
        }
      ]
    },
    {
      "cell_type": "code",
      "source": [
        "unique_words = set([word for sentence in train_sentences for word in sentence])\n",
        "print(\"Unique words:\", len(unique_words))"
      ],
      "metadata": {
        "id": "tHpzbc73IlzV",
        "colab": {
          "base_uri": "https://localhost:8080/"
        },
        "outputId": "050fda4a-1d1f-461a-8591-18c55da54483"
      },
      "execution_count": 6,
      "outputs": [
        {
          "output_type": "stream",
          "name": "stdout",
          "text": [
            "Unique words: 10585\n"
          ]
        }
      ]
    },
    {
      "cell_type": "code",
      "source": [
        "unique_labels = set([label for labels in train_labels for label in labels])\n",
        "unique_labels"
      ],
      "metadata": {
        "colab": {
          "base_uri": "https://localhost:8080/"
        },
        "id": "gGCTXvfgNLnu",
        "outputId": "18d96b4a-cd25-41df-b6a5-efc64a617d61"
      },
      "execution_count": 7,
      "outputs": [
        {
          "output_type": "execute_result",
          "data": {
            "text/plain": [
              "{'B-company',\n",
              " 'B-facility',\n",
              " 'B-geo-loc',\n",
              " 'B-movie',\n",
              " 'B-musicartist',\n",
              " 'B-other',\n",
              " 'B-person',\n",
              " 'B-product',\n",
              " 'B-sportsteam',\n",
              " 'B-tvshow',\n",
              " 'I-company',\n",
              " 'I-facility',\n",
              " 'I-geo-loc',\n",
              " 'I-movie',\n",
              " 'I-musicartist',\n",
              " 'I-other',\n",
              " 'I-person',\n",
              " 'I-product',\n",
              " 'I-sportsteam',\n",
              " 'I-tvshow',\n",
              " 'O'}"
            ]
          },
          "metadata": {},
          "execution_count": 7
        }
      ]
    },
    {
      "cell_type": "markdown",
      "source": [
        "# **Data Preprocessing**\n",
        "## **Label Encoding:**\n",
        "* Convert string labels into numerical form for model compatibility using LabelEncoder.\n",
        "\n",
        "## **Tokenization and Padding:**\n",
        "Use a tokenizer to convert words to numerical indices and pad sentences to a fixed length for batch processing.\n"
      ],
      "metadata": {
        "id": "IHhQJvsReh-I"
      }
    },
    {
      "cell_type": "code",
      "source": [
        "label_encoder = LabelEncoder()\n",
        "all_labels = [label for labels in train_labels for label in labels]\n",
        "label_encoder.fit(all_labels)\n",
        "\n",
        "train_labels_encoded = [label_encoder.transform(labels) for labels in train_labels]\n",
        "test_labels_encoded = [label_encoder.transform(labels) for labels in test_labels]"
      ],
      "metadata": {
        "id": "dBuHH9Y8XMRc"
      },
      "execution_count": 49,
      "outputs": []
    },
    {
      "cell_type": "code",
      "source": [
        "label_encoder.classes_"
      ],
      "metadata": {
        "colab": {
          "base_uri": "https://localhost:8080/"
        },
        "id": "3OGrsY5gnzhH",
        "outputId": "260e8c9c-60aa-4913-f839-c274eb037e83"
      },
      "execution_count": 9,
      "outputs": [
        {
          "output_type": "execute_result",
          "data": {
            "text/plain": [
              "array(['B-company', 'B-facility', 'B-geo-loc', 'B-movie', 'B-musicartist',\n",
              "       'B-other', 'B-person', 'B-product', 'B-sportsteam', 'B-tvshow',\n",
              "       'I-company', 'I-facility', 'I-geo-loc', 'I-movie', 'I-musicartist',\n",
              "       'I-other', 'I-person', 'I-product', 'I-sportsteam', 'I-tvshow',\n",
              "       'O'], dtype='<U13')"
            ]
          },
          "metadata": {},
          "execution_count": 9
        }
      ]
    },
    {
      "cell_type": "code",
      "source": [
        "# Check encoded labels\n",
        "print(\"Encoded Sample Labels:\", train_labels_encoded[0])"
      ],
      "metadata": {
        "colab": {
          "base_uri": "https://localhost:8080/"
        },
        "id": "vAEss9bzXPCu",
        "outputId": "853ea633-a5fd-4a23-95e8-5b7f8e4f2097"
      },
      "execution_count": 10,
      "outputs": [
        {
          "output_type": "stream",
          "name": "stdout",
          "text": [
            "Encoded Sample Labels: [20 20 20 20 20 20 20 20 20 20 20 20]\n"
          ]
        }
      ]
    },
    {
      "cell_type": "code",
      "source": [
        "tokenizer = Tokenizer()\n",
        "tokenizer.fit_on_texts(train_sentences)\n",
        "\n",
        "train_sequences = tokenizer.texts_to_sequences(train_sentences)\n",
        "test_sequences = tokenizer.texts_to_sequences(test_sentences)\n",
        "\n",
        "max_len = max(sentence_lengths)\n",
        "train_sequences_padded = pad_sequences(train_sequences, maxlen=max_len, padding='post')\n",
        "test_sequences_padded = pad_sequences(test_sequences, maxlen=max_len, padding='post')\n",
        "\n",
        "train_labels_padded = pad_sequences(train_labels_encoded, maxlen=max_len, padding='post', value=-1)\n",
        "test_labels_padded = pad_sequences(test_labels_encoded, maxlen=max_len, padding='post', value=-1)"
      ],
      "metadata": {
        "id": "XmmIeXXhXU6J"
      },
      "execution_count": 11,
      "outputs": []
    },
    {
      "cell_type": "code",
      "source": [
        "tokenizer = Tokenizer(oov_token=\"<OOV>\")\n",
        "tokenizer.fit_on_texts(train_sentences)"
      ],
      "metadata": {
        "id": "573hPBhPX78i"
      },
      "execution_count": 12,
      "outputs": []
    },
    {
      "cell_type": "code",
      "source": [
        "print(\"Padded sentence shape:\", train_sequences_padded.shape)\n",
        "print(\"Padded labels shape:\", train_labels_padded.shape)"
      ],
      "metadata": {
        "colab": {
          "base_uri": "https://localhost:8080/"
        },
        "id": "ivpau9PcX-Qm",
        "outputId": "f834a7be-b9df-4664-9d3f-9642deee850a"
      },
      "execution_count": 13,
      "outputs": [
        {
          "output_type": "stream",
          "name": "stdout",
          "text": [
            "Padded sentence shape: (2393, 39)\n",
            "Padded labels shape: (2393, 39)\n"
          ]
        }
      ]
    },
    {
      "cell_type": "markdown",
      "source": [
        "## **Training an LSTM + CRF Model**\n",
        "* We'll start by initializing embeddings using Word2Vec and prepare data for LSTM+CRF."
      ],
      "metadata": {
        "id": "CiJsGSuYe0nS"
      }
    },
    {
      "cell_type": "code",
      "source": [
        "from gensim.models import Word2Vec\n",
        "\n",
        "# Train Word2Vec model\n",
        "word2vec_model = Word2Vec(sentences=train_sentences, vector_size=100, window=5, min_count=1, workers=4)\n",
        "\n",
        "# Create an embedding matrix using the Word2Vec model\n",
        "embedding_dim = 100  # Use the same dimensionality as Word2Vec embeddings\n",
        "embedding_matrix = np.zeros((len(tokenizer.word_index) + 1, embedding_dim))\n",
        "\n",
        "for word, idx in tokenizer.word_index.items():\n",
        "    if word in word2vec_model.wv:\n",
        "        embedding_matrix[idx] = word2vec_model.wv[word]"
      ],
      "metadata": {
        "id": "ArcALFpAYAum"
      },
      "execution_count": 14,
      "outputs": []
    },
    {
      "cell_type": "code",
      "source": [
        "# Define LSTM+CRF Model\n",
        "def create_lstm_crf_model(input_shape, n_labels, embedding_matrix=None):\n",
        "    # Define input layer for tokenized sequences\n",
        "    input_ids = Input(shape=input_shape)\n",
        "\n",
        "    # Embedding layer with pre-trained embeddings\n",
        "    embedding_layer = Embedding(input_dim=len(tokenizer.word_index) + 1,\n",
        "                                output_dim=embedding_dim,\n",
        "                                weights=[embedding_matrix],  # Use pre-trained embeddings\n",
        "                                input_length=input_shape[0],\n",
        "                                trainable=False)(input_ids)\n",
        "\n",
        "    # variational biLSTM\n",
        "    output_sequences = Bidirectional(LSTM(units=50, return_sequences=True))(embedding_layer)\n",
        "\n",
        "    # Stacking\n",
        "    output_sequences = Bidirectional(LSTM(units=50, return_sequences=True))(output_sequences)\n",
        "\n",
        "    # Dropout layer for regularization\n",
        "    dropout_layer = Dropout(0.1)(output_sequences)\n",
        "\n",
        "    # CRF layer for sequence labeling\n",
        "    crf_layer = tfa.layers.CRF(n_labels)\n",
        "    # Modify this line to unpack all 4 return values\n",
        "    crf_out, potentials, sequence_length, chain_kernel = crf_layer(dropout_layer) # unpack all 4 return values of crf_layer\n",
        "\n",
        "    # Build and compile model with CRF loss\n",
        "    model = Model(inputs=input_ids, outputs=potentials)\n",
        "    # Change the loss function to crf_layer.loss\n",
        "    model.compile(optimizer=AdamW(weight_decay=0.001), loss=SigmoidFocalCrossEntropy(), metrics=['accuracy'])\n",
        "\n",
        "    return model"
      ],
      "metadata": {
        "id": "fcz948S6hgVz"
      },
      "execution_count": 15,
      "outputs": []
    },
    {
      "cell_type": "code",
      "source": [
        "# Model parameters\n",
        "input_shape = (train_sequences_padded.shape[1],)\n",
        "n_labels = len(label_encoder.classes_)\n",
        "\n",
        "# Create and display the model\n",
        "model = create_lstm_crf_model(input_shape=input_shape, n_labels=n_labels+1, embedding_matrix=embedding_matrix)\n",
        "model.summary()"
      ],
      "metadata": {
        "colab": {
          "base_uri": "https://localhost:8080/"
        },
        "id": "22dr4rvsib2P",
        "outputId": "310e4fea-e8ac-440e-c696-60094e12e714"
      },
      "execution_count": 16,
      "outputs": [
        {
          "output_type": "stream",
          "name": "stdout",
          "text": [
            "Model: \"model\"\n",
            "_________________________________________________________________\n",
            " Layer (type)                Output Shape              Param #   \n",
            "=================================================================\n",
            " input_1 (InputLayer)        [(None, 39)]              0         \n",
            "                                                                 \n",
            " embedding (Embedding)       (None, 39, 100)           906900    \n",
            "                                                                 \n",
            " bidirectional (Bidirection  (None, 39, 100)           60400     \n",
            " al)                                                             \n",
            "                                                                 \n",
            " bidirectional_1 (Bidirecti  (None, 39, 100)           60400     \n",
            " onal)                                                           \n",
            "                                                                 \n",
            " dropout (Dropout)           (None, 39, 100)           0         \n",
            "                                                                 \n",
            " crf (CRF)                   [(None, 39),              2750      \n",
            "                              (None, 39, 22),                    \n",
            "                              (None,),                           \n",
            "                              (22, 22)]                          \n",
            "                                                                 \n",
            "=================================================================\n",
            "Total params: 1030450 (3.93 MB)\n",
            "Trainable params: 123550 (482.62 KB)\n",
            "Non-trainable params: 906900 (3.46 MB)\n",
            "_________________________________________________________________\n"
          ]
        }
      ]
    },
    {
      "cell_type": "markdown",
      "source": [
        "# **Train-Test Split for Model**"
      ],
      "metadata": {
        "id": "WPgUOSCnmaqd"
      }
    },
    {
      "cell_type": "code",
      "source": [
        "X_train, X_val, y_train, y_val = train_test_split(train_sequences_padded, train_labels_padded, test_size=0.2, random_state=42)"
      ],
      "metadata": {
        "id": "asuZUNRck339"
      },
      "execution_count": 17,
      "outputs": []
    },
    {
      "cell_type": "code",
      "source": [
        "y_train_onehot = to_categorical(y_train, num_classes=n_labels+1)\n",
        "y_val_onehot = to_categorical(y_val, num_classes=n_labels+1)\n",
        "\n",
        "# Now fit the model using the one-hot encoded labels:\n",
        "history = model.fit(X_train, y_train_onehot,\n",
        "                    validation_data=(X_val, y_val_onehot),\n",
        "                    epochs=5, batch_size=32)"
      ],
      "metadata": {
        "colab": {
          "base_uri": "https://localhost:8080/"
        },
        "id": "aOAnOYoiyHds",
        "outputId": "781165c9-2529-4cdd-aa8b-7dde4799d4e7"
      },
      "execution_count": 18,
      "outputs": [
        {
          "output_type": "stream",
          "name": "stdout",
          "text": [
            "Epoch 1/5\n"
          ]
        },
        {
          "output_type": "stream",
          "name": "stderr",
          "text": [
            "WARNING:tensorflow:Gradients do not exist for variables ['chain_kernel:0'] when minimizing the loss. If you're using `model.compile()`, did you forget to provide a `loss` argument?\n",
            "WARNING:tensorflow:Gradients do not exist for variables ['chain_kernel:0'] when minimizing the loss. If you're using `model.compile()`, did you forget to provide a `loss` argument?\n"
          ]
        },
        {
          "output_type": "stream",
          "name": "stdout",
          "text": [
            "60/60 [==============================] - 14s 47ms/step - loss: 0.2602 - accuracy: 0.8508 - val_loss: 0.0819 - val_accuracy: 0.9317\n",
            "Epoch 2/5\n",
            "60/60 [==============================] - 1s 15ms/step - loss: 0.0852 - accuracy: 0.9357 - val_loss: 0.0862 - val_accuracy: 0.9332\n",
            "Epoch 3/5\n",
            "60/60 [==============================] - 1s 14ms/step - loss: 0.0700 - accuracy: 0.9383 - val_loss: 0.0587 - val_accuracy: 0.9355\n",
            "Epoch 4/5\n",
            "60/60 [==============================] - 1s 14ms/step - loss: 0.0599 - accuracy: 0.9401 - val_loss: 0.0561 - val_accuracy: 0.9365\n",
            "Epoch 5/5\n",
            "60/60 [==============================] - 1s 14ms/step - loss: 0.0993 - accuracy: 0.8781 - val_loss: 0.0653 - val_accuracy: 0.9362\n"
          ]
        }
      ]
    },
    {
      "cell_type": "code",
      "source": [
        "plt.xlabel(\"Epochs\")\n",
        "plt.ylabel(\"Accuracy\")\n",
        "plt.title(\"Accuracy Curve\")\n",
        "plt.plot(history.history['accuracy'],linewidth=3,color='limegreen')\n",
        "plt.plot(history.history['val_accuracy'],linewidth=3,color='orange')  # Plot the chart\n",
        "plt.legend([\"Training\", \"Validation\"], loc =\"lower right\")"
      ],
      "metadata": {
        "colab": {
          "base_uri": "https://localhost:8080/",
          "height": 489
        },
        "id": "49QBzNghMs2T",
        "outputId": "6c7ae323-e9ce-4396-dad3-2f2dd426287c"
      },
      "execution_count": 19,
      "outputs": [
        {
          "output_type": "execute_result",
          "data": {
            "text/plain": [
              "<matplotlib.legend.Legend at 0x7ca11af2db70>"
            ]
          },
          "metadata": {},
          "execution_count": 19
        },
        {
          "output_type": "display_data",
          "data": {
            "text/plain": [
              "<Figure size 640x480 with 1 Axes>"
            ],
            "image/png": "[encoded data removed]"
          },
          "metadata": {}
        }
      ]
    },
    {
      "cell_type": "code",
      "source": [
        "plt.xlabel(\"Epochs\")\n",
        "plt.ylabel(\"Loss\")\n",
        "plt.title(\"Loss Curve\")\n",
        "plt.plot(history.history['loss'],linewidth=3,color='limegreen')\n",
        "plt.plot(history.history['val_loss'],linewidth=3,color='orange')  # Plot the chart\n",
        "plt.legend([\"Training\", \"Validation\"], loc =\"upper right\")"
      ],
      "metadata": {
        "colab": {
          "base_uri": "https://localhost:8080/",
          "height": 489
        },
        "id": "TTQTP0ndNcPN",
        "outputId": "e204c844-92c3-4879-c2f3-92b529ea67f1"
      },
      "execution_count": 20,
      "outputs": [
        {
          "output_type": "execute_result",
          "data": {
            "text/plain": [
              "<matplotlib.legend.Legend at 0x7ca093c87970>"
            ]
          },
          "metadata": {},
          "execution_count": 20
        },
        {
          "output_type": "display_data",
          "data": {
            "text/plain": [
              "<Figure size 640x480 with 1 Axes>"
            ],
            "image/png": "[encoded data removed]"
          },
          "metadata": {}
        }
      ]
    },
    {
      "cell_type": "code",
      "source": [
        "model.compile(optimizer=AdamW(weight_decay=0.001), loss=SigmoidFocalCrossEntropy(), metrics=['accuracy'])\n",
        "test_labels_padded_onehot = to_categorical(test_labels_padded, num_classes=n_labels+1)\n",
        "\n",
        "# Now evaluate the model and unpack the results\n",
        "test_loss, test_acc = model.evaluate(test_sequences_padded, test_labels_padded_onehot)\n",
        "print(f\"Test Loss: {test_loss}, Test Accuracy: {test_acc}\")"
      ],
      "metadata": {
        "colab": {
          "base_uri": "https://localhost:8080/"
        },
        "id": "_W98s_CEmiT8",
        "outputId": "f768cb4a-3ab3-48e9-b84a-b8835a1d561e"
      },
      "execution_count": 21,
      "outputs": [
        {
          "output_type": "stream",
          "name": "stdout",
          "text": [
            "121/121 [==============================] - 5s 7ms/step - loss: 0.1585 - accuracy: 0.8412\n",
            "Test Loss: 0.1585441380739212, Test Accuracy: 0.8411575555801392\n"
          ]
        }
      ]
    },
    {
      "cell_type": "markdown",
      "source": [
        "## **BERT Tokenizer**"
      ],
      "metadata": {
        "id": "fFu3LEl1Wri-"
      }
    },
    {
      "cell_type": "code",
      "source": [
        "from transformers import BertTokenizer, TFBertForTokenClassification, TFBertForSequenceClassification"
      ],
      "metadata": {
        "id": "KdsJVdF2UMUZ"
      },
      "execution_count": 22,
      "outputs": []
    },
    {
      "cell_type": "code",
      "source": [
        "model_name = \"bert-base-uncased\"\n",
        "tokenizer = BertTokenizer.from_pretrained(model_name)\n",
        "model = TFBertForTokenClassification.from_pretrained(model_name, num_labels=len(label_encoder.classes_)+1)"
      ],
      "metadata": {
        "colab": {
          "base_uri": "https://localhost:8080/",
          "height": 266,
          "referenced_widgets": [
            "569eae4f5df94fbf911ce417f5a1fe36",
            "84d5065af92946159133ff3f36ce717b",
            "7b4f71ab5efe4acea3bbdb452e1366a0",
            "c002d625e7904554a9d504785f48d9c7",
            "aa5e5c32ffbd46f1869f287ab16d6c0e",
            "6af77f6d897a496485f2d8e7381acee8",
            "ce6bbd1aaf184510811bef54de317a77",
            "df9b39e07a9141bb93642b095fbba162",
            "907af0e610d4445ea6d460426c4437ca",
            "cd64e55e0bbb41918c1160f8cf337480",
            "a32efc8c667b4463b88442aca26a075b",
            "3c7d0bf9b41745358fa5f82a1babadbb",
            "8be1c43744a947fc8c2dd5f3cbf6b6fb",
            "b4df37b6fd214211abfa8ff12e043eac",
            "7ecbdcdef9964934adf50e2550623026",
            "7bc450bf59354a09af41381dd707e3b5",
            "b518a42a318a4fbca1bd6eb8f5a66275",
            "d6208746e66740e0bff8fcf723b257ab",
            "62930f47679f4dd1bccefcd3d19ed82c",
            "74c0983edde2441da818f22b92cf5f8e",
            "6337172360eb47ab9e2dafa7724ab6e8",
            "89d6b1f445864d7aa66504fe512f9c3f",
            "862c05ee1a134132827a0b951911db2c",
            "47ff1910e0bf4edb9216139babde9eb9",
            "80a69352a4e44ceebe43f07a414829dc",
            "912b4653f0ce4e1abe5709341c30440c",
            "38630ffe84584f9fb5f00acd66742e04",
            "c632934507284b36b84ccee4f7494c10",
            "cf5c46720a9942b0bf03f43c2f63f876",
            "e0b79d2134bd48d48bc83bb120f8886c",
            "bd2c9eb633fe47579f6ae23b691dec1b",
            "dc263e84dab54f4888c5fdf16cbb0a7e",
            "51d1ca324bbf4c0fb8e1613a2623be01",
            "37eb9431267245ddaa53085a03df494c",
            "440f6a34b0f64a7ab2834e4dc2e3874c",
            "d8896803236445349ed28bb1ea4bf68a",
            "ab03871e21bf45c3937b4e527b791c18",
            "cb8ba8a587584016af8777e9a9b800a2",
            "ca917a6fa5204c3cab1fbdb5cbd60b38",
            "364d0ac8dc964934858f6dd24891e421",
            "d3f71ea0569542efb8af35fbec8bb44a",
            "6db7f89079d44f9ab7ec25f5463fbb01",
            "9a35cbf1904841b8aa05b7cd8f259bf0",
            "fc498a55e95d4d2fa4e518238485bb57",
            "d8bc2d9bbd99446384acf27b124ef581",
            "fa6fe6ba32ac4596b5b36fd1ca9ed158",
            "04a122d68f2a4f05ac3dfec1bac3973a",
            "20678684e0de4f6aa98a9783318429a4",
            "1fa1c25404444090b087433fae69eeb5",
            "366629ab6e0444169ba83058de4676fe",
            "c6ce6776a9d646cfba49d5dbf5a657a2",
            "13a1dd3af7fa4244813619a4f57064cc",
            "416d777508e94516986cc553e59b801d",
            "f38f9de3cddb49579a3fd07afe12f9d2",
            "4bee46cbb4014b529a6755e021624518"
          ]
        },
        "id": "a6VsDytxMPtP",
        "outputId": "e9d23b96-b992-4291-b603-c0e6af2cb3da"
      },
      "execution_count": 23,
      "outputs": [
        {
          "output_type": "display_data",
          "data": {
            "text/plain": [
              "tokenizer_config.json:   0%|          | 0.00/48.0 [00:00<?, ?B/s]"
            ],
            "application/vnd.jupyter.widget-view+json": {
              "version_major": 2,
              "version_minor": 0,
              "model_id": "569eae4f5df94fbf911ce417f5a1fe36"
            }
          },
          "metadata": {}
        },
        {
          "output_type": "display_data",
          "data": {
            "text/plain": [
              "vocab.txt:   0%|          | 0.00/232k [00:00<?, ?B/s]"
            ],
            "application/vnd.jupyter.widget-view+json": {
              "version_major": 2,
              "version_minor": 0,
              "model_id": "3c7d0bf9b41745358fa5f82a1babadbb"
            }
          },
          "metadata": {}
        },
        {
          "output_type": "display_data",
          "data": {
            "text/plain": [
              "tokenizer.json:   0%|          | 0.00/466k [00:00<?, ?B/s]"
            ],
            "application/vnd.jupyter.widget-view+json": {
              "version_major": 2,
              "version_minor": 0,
              "model_id": "862c05ee1a134132827a0b951911db2c"
            }
          },
          "metadata": {}
        },
        {
          "output_type": "display_data",
          "data": {
            "text/plain": [
              "config.json:   0%|          | 0.00/570 [00:00<?, ?B/s]"
            ],
            "application/vnd.jupyter.widget-view+json": {
              "version_major": 2,
              "version_minor": 0,
              "model_id": "37eb9431267245ddaa53085a03df494c"
            }
          },
          "metadata": {}
        },
        {
          "output_type": "display_data",
          "data": {
            "text/plain": [
              "model.safetensors:   0%|          | 0.00/440M [00:00<?, ?B/s]"
            ],
            "application/vnd.jupyter.widget-view+json": {
              "version_major": 2,
              "version_minor": 0,
              "model_id": "d8bc2d9bbd99446384acf27b124ef581"
            }
          },
          "metadata": {}
        },
        {
          "output_type": "stream",
          "name": "stderr",
          "text": [
            "All PyTorch model weights were used when initializing TFBertForTokenClassification.\n",
            "\n",
            "Some weights or buffers of the TF 2.0 model TFBertForTokenClassification were not initialized from the PyTorch model and are newly initialized: ['classifier.weight', 'classifier.bias']\n",
            "You should probably TRAIN this model on a down-stream task to be able to use it for predictions and inference.\n"
          ]
        }
      ]
    },
    {
      "cell_type": "code",
      "source": [
        "# Define maximum sequence length (for padding and truncation)\n",
        "max_len = 75\n",
        "\n",
        "# Tokenization function\n",
        "def tokenize_and_align_labels(sentences, labels):\n",
        "    input_ids = []\n",
        "    attention_masks = []\n",
        "    label_ids = []\n",
        "\n",
        "    for sentence, label in zip(sentences, labels):\n",
        "        tokenized_inputs = tokenizer(sentence, truncation=True, padding='max_length', max_length=max_len, is_split_into_words=True)\n",
        "        input_ids.append(tokenized_inputs['input_ids'])\n",
        "        attention_masks.append(tokenized_inputs['attention_mask'])\n",
        "\n",
        "        label_ids_tmp = [21] * max_len\n",
        "        numerical_labels = [int(label_i) for label_i in label_encoder.transform(label)]  # Convert to integers\n",
        "        label_ids_tmp[:len(numerical_labels)] = numerical_labels[:len(numerical_labels)]\n",
        "        label_ids.append(label_ids_tmp)\n",
        "\n",
        "\n",
        "    return np.array(input_ids), np.array(attention_masks), np.array(label_ids)\n",
        "\n",
        "# Tokenize and prepare the data for training and testing\n",
        "train_input_ids, train_attention_masks, train_label_ids = tokenize_and_align_labels(train_sentences, train_labels)\n",
        "test_input_ids, test_attention_masks, test_label_ids = tokenize_and_align_labels(test_sentences, test_labels)"
      ],
      "metadata": {
        "id": "Md30qJNYN2Zo"
      },
      "execution_count": 24,
      "outputs": []
    },
    {
      "cell_type": "code",
      "source": [
        "X_train, X_val, y_train, y_val = train_test_split(train_input_ids, train_label_ids, test_size=0.2, random_state=42)"
      ],
      "metadata": {
        "id": "e169gup77aeK"
      },
      "execution_count": 25,
      "outputs": []
    },
    {
      "cell_type": "code",
      "source": [
        "from transformers import AdamWeightDecay\n",
        "\n",
        "optimizer = AdamWeightDecay(learning_rate=3e-5)\n",
        "# Create a custom loss function to handle the ignore_index\n",
        "def masked_sparse_categorical_crossentropy(y_true, y_pred):\n",
        "    # Create a mask to identify the padded tokens\n",
        "    mask = tf.math.not_equal(y_true, 21)\n",
        "\n",
        "    # Calculate the loss, applying the mask\n",
        "    loss = tf.keras.losses.sparse_categorical_crossentropy(y_true, y_pred, from_logits=True)\n",
        "    masked_loss = tf.boolean_mask(loss, mask)\n",
        "\n",
        "    # Return the mean of the masked loss\n",
        "    return tf.reduce_mean(masked_loss)\n",
        "\n",
        "# Use the custom loss function\n",
        "model.compile(optimizer=optimizer, loss=masked_sparse_categorical_crossentropy, metrics=['accuracy'])\n",
        "model.summary()"
      ],
      "metadata": {
        "colab": {
          "base_uri": "https://localhost:8080/"
        },
        "id": "NxMX-NGTOWix",
        "outputId": "dc1e098e-fc89-44e3-ed41-b8390cc3db1b"
      },
      "execution_count": 26,
      "outputs": [
        {
          "output_type": "stream",
          "name": "stdout",
          "text": [
            "Model: \"tf_bert_for_token_classification\"\n",
            "_________________________________________________________________\n",
            " Layer (type)                Output Shape              Param #   \n",
            "=================================================================\n",
            " bert (TFBertMainLayer)      multiple                  108891648 \n",
            "                                                                 \n",
            " dropout_37 (Dropout)        multiple                  0 (unused)\n",
            "                                                                 \n",
            " classifier (Dense)          multiple                  16918     \n",
            "                                                                 \n",
            "=================================================================\n",
            "Total params: 108908566 (415.45 MB)\n",
            "Trainable params: 108908566 (415.45 MB)\n",
            "Non-trainable params: 0 (0.00 Byte)\n",
            "_________________________________________________________________\n"
          ]
        }
      ]
    },
    {
      "cell_type": "code",
      "source": [
        "model_name = \"/content/drive/MyDrive/NER data/bert_ner_model\"\n",
        "save_model = tf.keras.callbacks.ModelCheckpoint(filepath=model_name,\n",
        "                                                save_weights_only=True,\n",
        "                                                save_best_only=True,\n",
        "                                                verbose=1)\n",
        "\n",
        "EarlyStoppingCallback = tf.keras.callbacks.EarlyStopping(monitor='val_loss', patience=3, restore_best_weights=True)"
      ],
      "metadata": {
        "id": "cySaUtB7YWew"
      },
      "execution_count": 42,
      "outputs": []
    },
    {
      "cell_type": "code",
      "source": [
        "history = model.fit(X_train, y_train, validation_data=(X_val, y_val), epochs=5, batch_size=32, callbacks=[save_model, EarlyStoppingCallback])"
      ],
      "metadata": {
        "colab": {
          "base_uri": "https://localhost:8080/"
        },
        "id": "3Fg9aN62-l9B",
        "outputId": "977dbb21-2b97-4e0f-b975-bca85dbff5fa"
      },
      "execution_count": 43,
      "outputs": [
        {
          "output_type": "stream",
          "name": "stdout",
          "text": [
            "Epoch 1/5\n",
            "60/60 [==============================] - ETA: 0s - loss: 0.1019 - accuracy: 0.2513\n",
            "Epoch 1: val_loss improved from inf to 0.34368, saving model to /content/drive/MyDrive/NER data/bert_ner_model\n",
            "60/60 [==============================] - 44s 737ms/step - loss: 0.1019 - accuracy: 0.2513 - val_loss: 0.3437 - val_accuracy: 0.2415\n",
            "Epoch 2/5\n",
            "60/60 [==============================] - ETA: 0s - loss: 0.0804 - accuracy: 0.2531\n",
            "Epoch 2: val_loss did not improve from 0.34368\n",
            "60/60 [==============================] - 32s 536ms/step - loss: 0.0804 - accuracy: 0.2531 - val_loss: 0.3479 - val_accuracy: 0.2421\n",
            "Epoch 3/5\n",
            "60/60 [==============================] - ETA: 0s - loss: 0.0665 - accuracy: 0.2541\n",
            "Epoch 3: val_loss did not improve from 0.34368\n",
            "60/60 [==============================] - 31s 523ms/step - loss: 0.0665 - accuracy: 0.2541 - val_loss: 0.3553 - val_accuracy: 0.2439\n",
            "Epoch 4/5\n",
            "60/60 [==============================] - ETA: 0s - loss: 0.0597 - accuracy: 0.2548\n",
            "Epoch 4: val_loss did not improve from 0.34368\n",
            "60/60 [==============================] - 35s 579ms/step - loss: 0.0597 - accuracy: 0.2548 - val_loss: 0.3555 - val_accuracy: 0.2429\n"
          ]
        }
      ]
    },
    {
      "cell_type": "code",
      "source": [
        "plt.xlabel(\"Epochs\")\n",
        "plt.ylabel(\"Accuracy\")\n",
        "plt.title(\"Accuracy Curve\")\n",
        "plt.plot(history.history['accuracy'],linewidth=3,color='limegreen')\n",
        "plt.plot(history.history['val_accuracy'],linewidth=3,color='orange')  # Plot the chart\n",
        "plt.legend([\"Training\", \"Validation\"], loc =\"lower right\")"
      ],
      "metadata": {
        "colab": {
          "base_uri": "https://localhost:8080/",
          "height": 489
        },
        "id": "sSgOFcepNxbV",
        "outputId": "cc32b4ca-2eaf-40ea-e854-73cc097a0fbf"
      },
      "execution_count": 44,
      "outputs": [
        {
          "output_type": "execute_result",
          "data": {
            "text/plain": [
              "<matplotlib.legend.Legend at 0x7c9fac18fc10>"
            ]
          },
          "metadata": {},
          "execution_count": 44
        },
        {
          "output_type": "display_data",
          "data": {
            "text/plain": [
              "<Figure size 640x480 with 1 Axes>"
            ],
            "image/png": "[encoded data removed]"
          },
          "metadata": {}
        }
      ]
    },
    {
      "cell_type": "code",
      "source": [
        "plt.xlabel(\"Epochs\")\n",
        "plt.ylabel(\"Loss\")\n",
        "plt.title(\"Loss Curve\")\n",
        "plt.plot(history.history['loss'],linewidth=3,color='limegreen')\n",
        "plt.plot(history.history['val_loss'],linewidth=3,color='orange')  # Plot the chart\n",
        "plt.legend([\"Training\", \"Validation\"], loc =\"upper right\")"
      ],
      "metadata": {
        "colab": {
          "base_uri": "https://localhost:8080/",
          "height": 489
        },
        "id": "9188VwnZN24L",
        "outputId": "a068f9ab-f8ae-443c-d662-3cc514401b07"
      },
      "execution_count": 45,
      "outputs": [
        {
          "output_type": "execute_result",
          "data": {
            "text/plain": [
              "<matplotlib.legend.Legend at 0x7c9f66780280>"
            ]
          },
          "metadata": {},
          "execution_count": 45
        },
        {
          "output_type": "display_data",
          "data": {
            "text/plain": [
              "<Figure size 640x480 with 1 Axes>"
            ],
            "image/png": "[encoded data removed]"
          },
          "metadata": {}
        }
      ]
    },
    {
      "cell_type": "code",
      "source": [
        "# Align predictions for sub-tokens\n",
        "def align_output(tokens, predictions):\n",
        "    # Merge sub-token predictions to the full token\n",
        "    aligned_predictions = []\n",
        "    for token, prediction in zip(tokens, predictions):\n",
        "        aligned_predictions.append((token, prediction))  # Implement your merging logic here\n",
        "    return aligned_predictions"
      ],
      "metadata": {
        "id": "p__6_S5r9jle"
      },
      "execution_count": 31,
      "outputs": []
    },
    {
      "cell_type": "code",
      "source": [
        "# Make predictions\n",
        "predictions = model.predict(y_train)\n",
        "aligned_predictions = align_output(test_sentences, predictions)\n",
        "aligned_predictions"
      ],
      "metadata": {
        "colab": {
          "base_uri": "https://localhost:8080/"
        },
        "id": "RBmSsfV-9z_K",
        "outputId": "865a3541-31ab-4251-eefa-878e524c2878"
      },
      "execution_count": 32,
      "outputs": [
        {
          "output_type": "stream",
          "name": "stdout",
          "text": [
            "60/60 [==============================] - 21s 177ms/step\n"
          ]
        },
        {
          "output_type": "execute_result",
          "data": {
            "text/plain": [
              "[(['New',\n",
              "   'Orleans',\n",
              "   'Mother',\n",
              "   \"'s\",\n",
              "   'Day',\n",
              "   'Parade',\n",
              "   'shooting',\n",
              "   '.',\n",
              "   'One',\n",
              "   'of',\n",
              "   'the',\n",
              "   'people',\n",
              "   'hurt',\n",
              "   'was',\n",
              "   'a',\n",
              "   '10-year-old',\n",
              "   'girl',\n",
              "   '.',\n",
              "   'WHAT',\n",
              "   'THE',\n",
              "   'HELL',\n",
              "   'IS',\n",
              "   'WRONG',\n",
              "   'WITH',\n",
              "   'PEOPLE',\n",
              "   '?'],\n",
              "  'logits')]"
            ]
          },
          "metadata": {},
          "execution_count": 32
        }
      ]
    },
    {
      "cell_type": "code",
      "source": [
        "model.save_pretrained(\"/content/drive/MyDrive/NER data/bert_ner_model\")"
      ],
      "metadata": {
        "id": "TIko2ARz8Fzy"
      },
      "execution_count": 33,
      "outputs": []
    },
    {
      "cell_type": "code",
      "source": [
        "# Sample sentence\n",
        "sample_sentence = [\"Harry Potter is a wizard.\"]\n",
        "max_len = 128\n",
        "\n",
        "# Tokenize the data\n",
        "input_data = tokenizer(\n",
        "    sample_sentence,\n",
        "    truncation=True,\n",
        "    padding=\"max_length\",\n",
        "    max_length=max_len,\n",
        "    is_split_into_words=True,\n",
        "    return_tensors=\"tf\"\n",
        ")\n",
        "\n",
        "# Get predictions from the model\n",
        "predictions = model(input_data)\n",
        "\n",
        "# Map the logits to predicted labels\n",
        "id_to_label = {i: label for i, label in enumerate(label_encoder.classes_)}\n",
        "predicted_labels = [id_to_label[np.argmax(logit)] for logit in predictions.logits[0].numpy()]\n",
        "\n",
        "# Filter out padding tokens using attention_mask\n",
        "attention_mask = input_data['attention_mask'].numpy()[0]  # Get attention_mask for the first sentence\n",
        "actual_length = sum(attention_mask)  # Count the number of '1's, which correspond to real tokens\n",
        "\n",
        "print(\"Predicted labels (without filtering):\", predicted_labels)\n",
        "print(\"Length of actual sentence output:\", actual_length)\n",
        "\n",
        "# Optional: Filter out padding labels if you only want the relevant predictions\n",
        "filtered_labels = [label for label, mask in zip(predicted_labels, attention_mask) if mask == 1]\n",
        "print(\"Filtered labels:\", filtered_labels)\n",
        "print(\"Length of filtered labels:\", len(filtered_labels))\n"
      ],
      "metadata": {
        "id": "0LqLRvzDPjEt",
        "colab": {
          "base_uri": "https://localhost:8080/"
        },
        "outputId": "e2859fb2-1455-4ce8-eb0c-587b4541b8a9"
      },
      "execution_count": 48,
      "outputs": [
        {
          "output_type": "stream",
          "name": "stdout",
          "text": [
            "Predicted labels (without filtering): ['B-person', 'I-person', 'O', 'O', 'O', 'O', 'O', 'B-person', 'O', 'O', 'O', 'O', 'O', 'O', 'O', 'O', 'O', 'O', 'O', 'O', 'O', 'O', 'O', 'O', 'O', 'O', 'O', 'O', 'O', 'O', 'O', 'O', 'O', 'O', 'O', 'O', 'O', 'O', 'O', 'O', 'O', 'O', 'O', 'O', 'O', 'O', 'O', 'O', 'O', 'O', 'O', 'O', 'O', 'O', 'O', 'O', 'O', 'O', 'O', 'O', 'O', 'O', 'O', 'O', 'O', 'O', 'O', 'O', 'O', 'O', 'O', 'O', 'O', 'O', 'O', 'O', 'O', 'O', 'O', 'O', 'O', 'O', 'O', 'O', 'O', 'O', 'O', 'O', 'O', 'O', 'O', 'O', 'O', 'O', 'O', 'O', 'O', 'O', 'O', 'O', 'O', 'O', 'O', 'O', 'O', 'O', 'O', 'O', 'O', 'O', 'O', 'O', 'O', 'O', 'O', 'O', 'O', 'O', 'O', 'O', 'O', 'O', 'O', 'O', 'O', 'O', 'O', 'O']\n",
            "Length of actual sentence output: 8\n",
            "Filtered labels: ['B-person', 'I-person', 'O', 'O', 'O', 'O', 'O', 'B-person']\n",
            "Length of filtered labels: 8\n"
          ]
        }
      ]
    },
    {
      "cell_type": "markdown",
      "source": [
        "# **Questions**\n",
        "\n",
        "1. Defining the problem statements and where can this and modifications of this be used?\n",
        "* **Problem Statements:**\n",
        "  * Extract entities like names, locations, or companies from unstructured text data.\n",
        "  * Automate Named Entity Recognition (NER) to improve understanding of user-generated content like tweets.\n",
        "  * Classify fine-grained categories such as person, geo-location, and company.\n",
        "* **Use Cases:**\n",
        "  * **Social Media Monitoring:** Track mentions of specific people, places, or brands.\n",
        "  * **Customer Support Automation:** Identify key entities in user queries for better response automation.\n",
        "  * **Content Categorization:** Organize content by identifying relevant categories.\n",
        "  * **Search Engine Optimization:** Enable more relevant search results by tagging entities in search queries.\n",
        "  * **Healthcare:** Extract patient information, diagnoses, or symptoms from unstructured clinical notes.\n",
        "---\n",
        "2. Explain the data format (conll bio format)\n",
        "\n",
        "  The CoNLL BIO format is a standard for labeling words in sequences:\n",
        "  * Each line contains a word and its corresponding label separated by a space\n",
        "  * Sentences are separated by an empty line.\n",
        "  * The labels use the BIO format:\n",
        "    1. B-Entity: Beginning of an entity.\n",
        "    2. I-Entity: Inside an entity.\n",
        "    3. O: Outside any entity.\n",
        "---\n",
        "3. What other ner data annotation formats are available and how are they different?\n",
        "\n",
        "* **BIO:** Labels entities with \"Begin\", \"Inside\", and \"Outside\".\n",
        "* **IOB:** Similar to BIO but does not use \"B\" for a single entity, making it simpler.\n",
        "* **IOBES:** Adds \"E\" for the end of entities and \"S\" for single-token entities. More explicit than BIO.\n",
        "* **XML/JSON:** Annotates entities within markup tags or as JSON objects. Ideal for structured data storage.\n",
        "\n",
        "* **Difference:**\n",
        "  * BIO and IOB focus on sequence tagging, while IOBES adds granularity for better training. XML and JSON are used for flexible data storage.\n",
        "---\n",
        "4. Why do we need tokenization of the data in our case\n",
        "\n",
        "  Tokenization splits sentences into smaller units (tokens). This is necessary because:\n",
        "  * Models like BERT operate at the token level.\n",
        "  * It handles variations like subwords, punctuation, and casing.\n",
        "  * Ensures alignment between input text and labels (e.g., handling multi-token words).\n",
        "  * Facilitates mapping between tokens and embeddings during training.\n",
        "---\n",
        "5. What other models can you use for this task\n",
        "\n",
        "* **LSTM + CRF:** Handles sequential data with an additional CRF layer for structured prediction.\n",
        "* **BiLSTM:** Processes text in both forward and backward directions for context.\n",
        "* **Transformer-Based Models:**\n",
        "  * BERT (Bidirectional Encoder Representations from Transformers).\n",
        "  * RoBERTa (Robustly Optimized BERT).\n",
        "  * GPT series (Generative Pre-trained Transformers).\n",
        "* **SpaCy:** Pre-trained models for quick and scalable NER tasks.\n",
        "* **Flair:** Contextual string embeddings tailored for NER.\n",
        "---\n",
        "\n",
        "6. Did early stopping have any effect on the training and results.\n",
        "\n",
        "  Yes, early stopping prevents overfitting by halting training when validation performance stops improving.\n",
        "  * **Effect:**\n",
        "    * Avoids wasting computational resources.\n",
        "    * Helps retain a model state with optimal generalization capabilities.\n",
        "    * Reduces the risk of overfitting noisy data.\n",
        "---\n",
        "\n",
        "7. How does the BERT model expect a pair of sentences to be processed?\n",
        "\n",
        "  BERT processes sentence pairs by:\n",
        "  * Adding a special [CLS] token at the beginning of the first sentence.\n",
        "  * Adding a [SEP] token to separate the two sentences.\n",
        "  * Encoding positional embeddings to distinguish between sentences.\n",
        "  * Using segment embeddings (0 for the first sentence, 1 for the second sentence).\n",
        "---\n",
        "\n",
        "8. Why choose Attention based models over Recurrent based ones?\n",
        "  \n",
        "  Attention-Based Models:\n",
        "  * Capture long-range dependencies effectively without vanishing gradients.\n",
        "  * Parallelizable, enabling faster training.\n",
        "  * Handle entire sequences simultaneously.\n",
        "  \n",
        "  Recurrent Models (RNNs/LSTMs):\n",
        "  * Process sequentially, making them slower.\n",
        "  * Struggle with long-range dependencies.\n",
        "\n",
        "  **Result:** Attention-based models (like Transformers) are more efficient and scalable.\n",
        "\n",
        "\n",
        "---\n",
        "\n",
        "9. Differentiate BERT and simple transformers\n",
        "\n",
        "  BERT (Base Model):\n",
        "  * A pre-trained transformer model for masked language modeling and next-sentence prediction.\n",
        "  * Requires extensive configuration for downstream tasks like NER.\n",
        "\n",
        "  Simple Transformers:\n",
        "  * A high-level wrapper for transformer models (including BERT).\n",
        "  * Simplifies fine-tuning for specific tasks (NER, text classification).\n",
        "  * Reduces boilerplate code and increases accessibility for non-experts."
      ],
      "metadata": {
        "id": "vQdpQxw3Zg8C"
      }
    },
    {
      "cell_type": "code",
      "source": [],
      "metadata": {
        "id": "BNRm4767Vrq-"
      },
      "execution_count": null,
      "outputs": []
    }
  ]
}